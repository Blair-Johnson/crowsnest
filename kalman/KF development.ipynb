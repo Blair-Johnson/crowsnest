{
 "cells": [
  {
   "cell_type": "code",
   "execution_count": 1,
   "metadata": {},
   "outputs": [],
   "source": [
    "import numpy as np"
   ]
  },
  {
   "cell_type": "code",
   "execution_count": 2,
   "metadata": {},
   "outputs": [],
   "source": [
    "class K_Filter:\n",
    "    def __init__(self, y0, dt = 1/25):\n",
    "        '''\n",
    "            Ak = constant\n",
    "            xh = [xh_k+1|k, xh_k|k]\n",
    "            P = [P_k+1|k, P_k|k]\n",
    "        '''\n",
    "        self.dt = dt\n",
    "        self.Ak = np.array([[1, 0, 0, 0, 0], [0, 1, 0, 0, 0]])\n",
    "        self.xh = [None, None] \n",
    "        self.P = [None, self.inv(np.dot(self.A_k.transpose(),self.A_k))]\n",
    "        \n",
    "        \n",
    "    def inv(self, A):\n",
    "        return np.linalg.inv(A)\n",
    "    \n",
    "    def state_update_extrap(self):\n",
    "        self.Fk = np.array([[1, 0, np.cos(self.xh[1][3])*self.dt, 0, 0],\n",
    "                            [0, 1, np.sin(self.xh[1][3])*self.dt, 0, 0],\n",
    "                            [0, 0, 1, 0, 0],\n",
    "                            [0, 0, 0, 1, self.dt],\n",
    "                            [0, 0, 0, 0, 1]])\n",
    "        self.xh[0] = np.dot(self.Fk, self.xh[1])\n",
    "        \n",
    "    def info_mtx_extrap(self):\n",
    "        self.P[0] = np.dot(self.Fk, np.dot(self.P[1], self.Fk.transpose())) + np.eye(5)\n",
    "        \n",
    "    def kalman_gain(self):\n",
    "        a = np.dot(self.Ak, np.dot(self.P[0], self.Ak.transpose())) + np.eye(2)\n",
    "        self.KG = np.dot(self.P[0], np.dot(self.Ak.transpose(), self.inv(a)))\n",
    "        \n",
    "    def state_update(self, yk1):\n",
    "        self.xh[1] = self.xh[0] + np.dot(self.KG, (yk1 - np.dot(self.Ak, self.xh[0])))\n",
    "        \n",
    "    def info_mtx_update(self):\n",
    "        self.P[1] = np.dot(np.eye(2) - np.dot(self.KG, self.Ak), self.P[0])"
   ]
  },
  {
   "cell_type": "code",
   "execution_count": null,
   "metadata": {},
   "outputs": [],
   "source": []
  }
 ],
 "metadata": {
  "kernelspec": {
   "display_name": "tf",
   "language": "python",
   "name": "tf"
  },
  "language_info": {
   "codemirror_mode": {
    "name": "ipython",
    "version": 3
   },
   "file_extension": ".py",
   "mimetype": "text/x-python",
   "name": "python",
   "nbconvert_exporter": "python",
   "pygments_lexer": "ipython3",
   "version": "3.7.7"
  }
 },
 "nbformat": 4,
 "nbformat_minor": 4
}
