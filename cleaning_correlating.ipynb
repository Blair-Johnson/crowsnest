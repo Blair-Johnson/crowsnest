{
 "cells": [
  {
   "cell_type": "code",
   "execution_count": 1,
   "metadata": {},
   "outputs": [],
   "source": [
    "import numpy as np\n",
    "import matplotlib.pyplot as plt\n",
    "import pandas as pd\n",
    "#frametime is wrong, don't use it (20fps instead of 25)"
   ]
  },
  {
   "cell_type": "code",
   "execution_count": 2,
   "metadata": {},
   "outputs": [],
   "source": [
    "A = np.genfromtxt('./cleaned_gps/6/6_lat_lon_rel.csv', delimiter=',')\n",
    "camera_stamps = pd.read_csv('./cleaned_gps/6/SOURCE_GPS_LOG_6_cleaned.csv', delimiter=',')\n",
    "gps_stamps = pd.read_csv('./cleaned_gps/6/gps_time_6.csv', delimiter=',')\n",
    "fps = 25"
   ]
  },
  {
   "cell_type": "code",
   "execution_count": 14,
   "metadata": {},
   "outputs": [
    {
     "data": {
      "text/plain": [
       "16"
      ]
     },
     "execution_count": 14,
     "metadata": {},
     "output_type": "execute_result"
    }
   ],
   "source": [
    "camera_stamps.loc[camera_stamps.estimated_time != '00:00:00']['Frame No.'].iloc[0]\n",
    "#camera_stamps.iloc[16]"
   ]
  },
  {
   "cell_type": "code",
   "execution_count": 179,
   "metadata": {},
   "outputs": [
    {
     "name": "stderr",
     "output_type": "stream",
     "text": [
      "D:\\Conda\\envs\\tensorflow\\lib\\site-packages\\pandas\\core\\indexing.py:671: SettingWithCopyWarning: \n",
      "A value is trying to be set on a copy of a slice from a DataFrame\n",
      "\n",
      "See the caveats in the documentation: https://pandas.pydata.org/pandas-docs/stable/user_guide/indexing.html#returning-a-view-versus-a-copy\n",
      "  self._setitem_with_indexer(indexer, value)\n",
      "D:\\Conda\\envs\\tensorflow\\lib\\site-packages\\ipykernel_launcher.py:5: SettingWithCopyWarning: \n",
      "A value is trying to be set on a copy of a slice from a DataFrame\n",
      "\n",
      "See the caveats in the documentation: https://pandas.pydata.org/pandas-docs/stable/user_guide/indexing.html#returning-a-view-versus-a-copy\n",
      "  \"\"\"\n"
     ]
    }
   ],
   "source": [
    "for i in range(16):\n",
    "    camera_stamps.estimated_time.iloc[i] = '19:33:58'\n",
    "for i, stamp in enumerate(camera_stamps.estimated_time):\n",
    "    offset = 9/25+i/25\n",
    "    camera_stamps.estimated_time[i] = stamp + str(round(offset - int(offset),2))[1:]\n",
    "camera_stamps.to_csv('./cleaned_gps/6/corrected_camera_loc.csv', index = False)"
   ]
  },
  {
   "cell_type": "code",
   "execution_count": 180,
   "metadata": {},
   "outputs": [],
   "source": [
    "frequencies = dict(gps_stamps.timestamp.value_counts())\n",
    "for stamp, count in frequencies.items():\n",
    "    for i,(index,val) in enumerate(zip(gps_stamps[gps_stamps.timestamp == stamp].index, gps_stamps[gps_stamps.timestamp == stamp].timestamp)):\n",
    "        offset = (i+1)/25*int(25/(count+1))\n",
    "        gps_stamps.timestamp.iloc[index] = stamp + str(offset - int(offset))[1:]\n",
    "gps_stamps['lat'] = A[:,0]\n",
    "gps_stamps['lon'] = A[:,1]\n",
    "gps_stamps.to_csv('./cleaned_gps/6/gps_time_6_interp.csv', index = False)"
   ]
  },
  {
   "cell_type": "code",
   "execution_count": 183,
   "metadata": {},
   "outputs": [
    {
     "data": {
      "text/html": [
       "<div>\n",
       "<style scoped>\n",
       "    .dataframe tbody tr th:only-of-type {\n",
       "        vertical-align: middle;\n",
       "    }\n",
       "\n",
       "    .dataframe tbody tr th {\n",
       "        vertical-align: top;\n",
       "    }\n",
       "\n",
       "    .dataframe thead th {\n",
       "        text-align: right;\n",
       "    }\n",
       "</style>\n",
       "<table border=\"1\" class=\"dataframe\">\n",
       "  <thead>\n",
       "    <tr style=\"text-align: right;\">\n",
       "      <th></th>\n",
       "      <th>Frame No.</th>\n",
       "      <th>UTC Timestamp</th>\n",
       "      <th>Lat</th>\n",
       "      <th>Long</th>\n",
       "      <th>estimated_time</th>\n",
       "    </tr>\n",
       "  </thead>\n",
       "  <tbody>\n",
       "    <tr>\n",
       "      <th>0</th>\n",
       "      <td>0</td>\n",
       "      <td>19:33:54</td>\n",
       "      <td>32.70297</td>\n",
       "      <td>-117.234631</td>\n",
       "      <td>19:33:58.36</td>\n",
       "    </tr>\n",
       "    <tr>\n",
       "      <th>1</th>\n",
       "      <td>1</td>\n",
       "      <td>19:33:54</td>\n",
       "      <td>32.70297</td>\n",
       "      <td>-117.234631</td>\n",
       "      <td>19:33:58.4</td>\n",
       "    </tr>\n",
       "    <tr>\n",
       "      <th>2</th>\n",
       "      <td>2</td>\n",
       "      <td>19:33:54</td>\n",
       "      <td>32.70297</td>\n",
       "      <td>-117.234631</td>\n",
       "      <td>19:33:58.44</td>\n",
       "    </tr>\n",
       "    <tr>\n",
       "      <th>3</th>\n",
       "      <td>3</td>\n",
       "      <td>19:33:54</td>\n",
       "      <td>32.70297</td>\n",
       "      <td>-117.234631</td>\n",
       "      <td>19:33:58.48</td>\n",
       "    </tr>\n",
       "    <tr>\n",
       "      <th>4</th>\n",
       "      <td>4</td>\n",
       "      <td>19:33:54</td>\n",
       "      <td>32.70297</td>\n",
       "      <td>-117.234631</td>\n",
       "      <td>19:33:58.52</td>\n",
       "    </tr>\n",
       "  </tbody>\n",
       "</table>\n",
       "</div>"
      ],
      "text/plain": [
       "   Frame No. UTC Timestamp       Lat        Long estimated_time\n",
       "0          0      19:33:54  32.70297 -117.234631    19:33:58.36\n",
       "1          1      19:33:54  32.70297 -117.234631     19:33:58.4\n",
       "2          2      19:33:54  32.70297 -117.234631    19:33:58.44\n",
       "3          3      19:33:54  32.70297 -117.234631    19:33:58.48\n",
       "4          4      19:33:54  32.70297 -117.234631    19:33:58.52"
      ]
     },
     "execution_count": 183,
     "metadata": {},
     "output_type": "execute_result"
    }
   ],
   "source": [
    "camera_stamps.head()"
   ]
  },
  {
   "cell_type": "code",
   "execution_count": 184,
   "metadata": {},
   "outputs": [
    {
     "data": {
      "text/html": [
       "<div>\n",
       "<style scoped>\n",
       "    .dataframe tbody tr th:only-of-type {\n",
       "        vertical-align: middle;\n",
       "    }\n",
       "\n",
       "    .dataframe tbody tr th {\n",
       "        vertical-align: top;\n",
       "    }\n",
       "\n",
       "    .dataframe thead th {\n",
       "        text-align: right;\n",
       "    }\n",
       "</style>\n",
       "<table border=\"1\" class=\"dataframe\">\n",
       "  <thead>\n",
       "    <tr style=\"text-align: right;\">\n",
       "      <th></th>\n",
       "      <th>Frame No.</th>\n",
       "      <th>UTC Timestamp</th>\n",
       "      <th>Lat</th>\n",
       "      <th>Long</th>\n",
       "      <th>estimated_time</th>\n",
       "    </tr>\n",
       "  </thead>\n",
       "  <tbody>\n",
       "    <tr>\n",
       "      <th>103</th>\n",
       "      <td>103</td>\n",
       "      <td>19:33:59</td>\n",
       "      <td>32.70297</td>\n",
       "      <td>-117.234631</td>\n",
       "      <td>19:34:02.48</td>\n",
       "    </tr>\n",
       "  </tbody>\n",
       "</table>\n",
       "</div>"
      ],
      "text/plain": [
       "     Frame No. UTC Timestamp       Lat        Long estimated_time\n",
       "103        103      19:33:59  32.70297 -117.234631    19:34:02.48"
      ]
     },
     "execution_count": 184,
     "metadata": {},
     "output_type": "execute_result"
    }
   ],
   "source": [
    "camera_stamps[camera_stamps.estimated_time ==  '19:34:02.48']"
   ]
  },
  {
   "cell_type": "code",
   "execution_count": 209,
   "metadata": {},
   "outputs": [],
   "source": [
    "lat = []\n",
    "lon = []\n",
    "for i,stamp in enumerate(camera_stamps.estimated_time):\n",
    "    if str(stamp) in gps_stamps.timestamp.values:\n",
    "        lat.append(gps_stamps[gps_stamps.timestamp == stamp].iloc[0].lat)\n",
    "        lon.append(gps_stamps[gps_stamps.timestamp == stamp].iloc[0].lon)\n",
    "    else:\n",
    "        lat.append(None)\n",
    "        lon.append(None)"
   ]
  },
  {
   "cell_type": "code",
   "execution_count": 212,
   "metadata": {},
   "outputs": [],
   "source": [
    "camera_stamps['boat_lat_rel'] = lat\n",
    "camera_stamps['boat_lon_rel'] = lon"
   ]
  },
  {
   "cell_type": "code",
   "execution_count": 217,
   "metadata": {},
   "outputs": [],
   "source": [
    "ground_truth = camera_stamps.drop(['Lat','Long'],axis=1)"
   ]
  },
  {
   "cell_type": "code",
   "execution_count": 218,
   "metadata": {},
   "outputs": [],
   "source": [
    "ground_truth.to_csv('correlated_ground_truth_6.csv', index = False)"
   ]
  },
  {
   "cell_type": "code",
   "execution_count": null,
   "metadata": {},
   "outputs": [],
   "source": []
  }
 ],
 "metadata": {
  "kernelspec": {
   "display_name": "tf",
   "language": "python",
   "name": "tf"
  },
  "language_info": {
   "codemirror_mode": {
    "name": "ipython",
    "version": 3
   },
   "file_extension": ".py",
   "mimetype": "text/x-python",
   "name": "python",
   "nbconvert_exporter": "python",
   "pygments_lexer": "ipython3",
   "version": "3.7.7"
  }
 },
 "nbformat": 4,
 "nbformat_minor": 4
}
