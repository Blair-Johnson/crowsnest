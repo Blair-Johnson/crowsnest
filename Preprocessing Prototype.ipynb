{
 "cells": [
  {
   "cell_type": "code",
   "execution_count": 199,
   "metadata": {},
   "outputs": [],
   "source": [
    "import numpy as np\n",
    "import matplotlib.pyplot as plt\n",
    "import pandas as pd\n",
    "import os\n",
    "import glob\n",
    "import math\n",
    "import datetime"
   ]
  },
  {
   "cell_type": "code",
   "execution_count": 200,
   "metadata": {},
   "outputs": [],
   "source": [
    "A = './gps_data/AI Tracks at Sea High Frequency GPS_6.txt'\n",
    "B = './gps_data/AI Tracks at Sea High Frequency GPS_18 and 19.txt'\n",
    "C = './gps_data/gps_train.txt'\n",
    "mapping = [C,C,C,C,C,C,C,C,B,B,C,C,A,C,C,C]\n",
    "cam_lon = -117.234631\n",
    "cam_lat = 32.7029769\n",
    "fps = 25"
   ]
  },
  {
   "cell_type": "code",
   "execution_count": 201,
   "metadata": {},
   "outputs": [],
   "source": [
    "def find_nearest(array, value):\n",
    "    array = np.asarray(array)\n",
    "    idx = (np.abs(array - value)).argmin()\n",
    "    return idx"
   ]
  },
  {
   "cell_type": "code",
   "execution_count": 203,
   "metadata": {},
   "outputs": [
    {
     "name": "stdout",
     "output_type": "stream",
     "text": [
      "./labeling_files\\10.csv\n"
     ]
    },
    {
     "name": "stderr",
     "output_type": "stream",
     "text": [
      "D:\\Conda\\envs\\tensorflow\\lib\\site-packages\\ipykernel_launcher.py:93: SettingWithCopyWarning: \n",
      "A value is trying to be set on a copy of a slice from a DataFrame\n",
      "\n",
      "See the caveats in the documentation: https://pandas.pydata.org/pandas-docs/stable/user_guide/indexing.html#returning-a-view-versus-a-copy\n",
      "D:\\Conda\\envs\\tensorflow\\lib\\site-packages\\ipykernel_launcher.py:133: SettingWithCopyWarning: \n",
      "A value is trying to be set on a copy of a slice from a DataFrame\n",
      "\n",
      "See the caveats in the documentation: https://pandas.pydata.org/pandas-docs/stable/user_guide/indexing.html#returning-a-view-versus-a-copy\n",
      "D:\\Conda\\envs\\tensorflow\\lib\\site-packages\\ipykernel_launcher.py:134: SettingWithCopyWarning: \n",
      "A value is trying to be set on a copy of a slice from a DataFrame\n",
      "\n",
      "See the caveats in the documentation: https://pandas.pydata.org/pandas-docs/stable/user_guide/indexing.html#returning-a-view-versus-a-copy\n",
      "D:\\Conda\\envs\\tensorflow\\lib\\site-packages\\ipykernel_launcher.py:150: SettingWithCopyWarning: \n",
      "A value is trying to be set on a copy of a slice from a DataFrame.\n",
      "Try using .loc[row_indexer,col_indexer] = value instead\n",
      "\n",
      "See the caveats in the documentation: https://pandas.pydata.org/pandas-docs/stable/user_guide/indexing.html#returning-a-view-versus-a-copy\n",
      "D:\\Conda\\envs\\tensorflow\\lib\\site-packages\\ipykernel_launcher.py:151: SettingWithCopyWarning: \n",
      "A value is trying to be set on a copy of a slice from a DataFrame.\n",
      "Try using .loc[row_indexer,col_indexer] = value instead\n",
      "\n",
      "See the caveats in the documentation: https://pandas.pydata.org/pandas-docs/stable/user_guide/indexing.html#returning-a-view-versus-a-copy\n",
      "D:\\Conda\\envs\\tensorflow\\lib\\site-packages\\ipykernel_launcher.py:152: SettingWithCopyWarning: \n",
      "A value is trying to be set on a copy of a slice from a DataFrame.\n",
      "Try using .loc[row_indexer,col_indexer] = value instead\n",
      "\n",
      "See the caveats in the documentation: https://pandas.pydata.org/pandas-docs/stable/user_guide/indexing.html#returning-a-view-versus-a-copy\n",
      "D:\\Conda\\envs\\tensorflow\\lib\\site-packages\\ipykernel_launcher.py:153: SettingWithCopyWarning: \n",
      "A value is trying to be set on a copy of a slice from a DataFrame.\n",
      "Try using .loc[row_indexer,col_indexer] = value instead\n",
      "\n",
      "See the caveats in the documentation: https://pandas.pydata.org/pandas-docs/stable/user_guide/indexing.html#returning-a-view-versus-a-copy\n",
      "D:\\Conda\\envs\\tensorflow\\lib\\site-packages\\ipykernel_launcher.py:154: SettingWithCopyWarning: \n",
      "A value is trying to be set on a copy of a slice from a DataFrame.\n",
      "Try using .loc[row_indexer,col_indexer] = value instead\n",
      "\n",
      "See the caveats in the documentation: https://pandas.pydata.org/pandas-docs/stable/user_guide/indexing.html#returning-a-view-versus-a-copy\n",
      "D:\\Conda\\envs\\tensorflow\\lib\\site-packages\\ipykernel_launcher.py:155: SettingWithCopyWarning: \n",
      "A value is trying to be set on a copy of a slice from a DataFrame.\n",
      "Try using .loc[row_indexer,col_indexer] = value instead\n",
      "\n",
      "See the caveats in the documentation: https://pandas.pydata.org/pandas-docs/stable/user_guide/indexing.html#returning-a-view-versus-a-copy\n",
      "D:\\Conda\\envs\\tensorflow\\lib\\site-packages\\ipykernel_launcher.py:156: SettingWithCopyWarning: \n",
      "A value is trying to be set on a copy of a slice from a DataFrame.\n",
      "Try using .loc[row_indexer,col_indexer] = value instead\n",
      "\n",
      "See the caveats in the documentation: https://pandas.pydata.org/pandas-docs/stable/user_guide/indexing.html#returning-a-view-versus-a-copy\n",
      "D:\\Conda\\envs\\tensorflow\\lib\\site-packages\\ipykernel_launcher.py:157: SettingWithCopyWarning: \n",
      "A value is trying to be set on a copy of a slice from a DataFrame.\n",
      "Try using .loc[row_indexer,col_indexer] = value instead\n",
      "\n",
      "See the caveats in the documentation: https://pandas.pydata.org/pandas-docs/stable/user_guide/indexing.html#returning-a-view-versus-a-copy\n"
     ]
    },
    {
     "name": "stdout",
     "output_type": "stream",
     "text": [
      "./labeling_files\\11.csv\n",
      "./labeling_files\\12.csv\n",
      "./labeling_files\\13.csv\n",
      "./labeling_files\\14.csv\n",
      "./labeling_files\\15.csv\n",
      "./labeling_files\\16.csv\n",
      "./labeling_files\\17.csv\n",
      "./labeling_files\\21.csv\n",
      "./labeling_files\\22.csv\n",
      "./labeling_files\\7.csv\n"
     ]
    },
    {
     "ename": "ValueError",
     "evalue": "Length of values does not match length of index",
     "output_type": "error",
     "traceback": [
      "\u001b[1;31m---------------------------------------------------------------------------\u001b[0m",
      "\u001b[1;31mValueError\u001b[0m                                Traceback (most recent call last)",
      "\u001b[1;32m<ipython-input-203-07cf8131a260>\u001b[0m in \u001b[0;36m<module>\u001b[1;34m\u001b[0m\n\u001b[0;32m    138\u001b[0m \u001b[1;33m\u001b[0m\u001b[0m\n\u001b[0;32m    139\u001b[0m     \u001b[1;31m#add in screendata\u001b[0m\u001b[1;33m\u001b[0m\u001b[1;33m\u001b[0m\u001b[1;33m\u001b[0m\u001b[0m\n\u001b[1;32m--> 140\u001b[1;33m     \u001b[0mcamera_df\u001b[0m\u001b[1;33m[\u001b[0m\u001b[1;34m'x'\u001b[0m\u001b[1;33m]\u001b[0m \u001b[1;33m=\u001b[0m \u001b[0mscreendata\u001b[0m\u001b[1;33m[\u001b[0m\u001b[1;33m:\u001b[0m\u001b[1;33m,\u001b[0m\u001b[1;36m1\u001b[0m\u001b[1;33m]\u001b[0m\u001b[1;33m\u001b[0m\u001b[1;33m\u001b[0m\u001b[0m\n\u001b[0m\u001b[0;32m    141\u001b[0m     \u001b[0mcamera_df\u001b[0m\u001b[1;33m[\u001b[0m\u001b[1;34m'y'\u001b[0m\u001b[1;33m]\u001b[0m \u001b[1;33m=\u001b[0m \u001b[0mscreendata\u001b[0m\u001b[1;33m[\u001b[0m\u001b[1;33m:\u001b[0m\u001b[1;33m,\u001b[0m\u001b[1;36m2\u001b[0m\u001b[1;33m]\u001b[0m\u001b[1;33m\u001b[0m\u001b[1;33m\u001b[0m\u001b[0m\n\u001b[0;32m    142\u001b[0m     \u001b[0mcamera_df\u001b[0m\u001b[1;33m[\u001b[0m\u001b[1;34m'width'\u001b[0m\u001b[1;33m]\u001b[0m \u001b[1;33m=\u001b[0m \u001b[0mscreendata\u001b[0m\u001b[1;33m[\u001b[0m\u001b[1;33m:\u001b[0m\u001b[1;33m,\u001b[0m\u001b[1;36m3\u001b[0m\u001b[1;33m]\u001b[0m\u001b[1;33m\u001b[0m\u001b[1;33m\u001b[0m\u001b[0m\n",
      "\u001b[1;32mD:\\Conda\\envs\\tensorflow\\lib\\site-packages\\pandas\\core\\frame.py\u001b[0m in \u001b[0;36m__setitem__\u001b[1;34m(self, key, value)\u001b[0m\n\u001b[0;32m   2936\u001b[0m         \u001b[1;32melse\u001b[0m\u001b[1;33m:\u001b[0m\u001b[1;33m\u001b[0m\u001b[1;33m\u001b[0m\u001b[0m\n\u001b[0;32m   2937\u001b[0m             \u001b[1;31m# set column\u001b[0m\u001b[1;33m\u001b[0m\u001b[1;33m\u001b[0m\u001b[1;33m\u001b[0m\u001b[0m\n\u001b[1;32m-> 2938\u001b[1;33m             \u001b[0mself\u001b[0m\u001b[1;33m.\u001b[0m\u001b[0m_set_item\u001b[0m\u001b[1;33m(\u001b[0m\u001b[0mkey\u001b[0m\u001b[1;33m,\u001b[0m \u001b[0mvalue\u001b[0m\u001b[1;33m)\u001b[0m\u001b[1;33m\u001b[0m\u001b[1;33m\u001b[0m\u001b[0m\n\u001b[0m\u001b[0;32m   2939\u001b[0m \u001b[1;33m\u001b[0m\u001b[0m\n\u001b[0;32m   2940\u001b[0m     \u001b[1;32mdef\u001b[0m \u001b[0m_setitem_slice\u001b[0m\u001b[1;33m(\u001b[0m\u001b[0mself\u001b[0m\u001b[1;33m,\u001b[0m \u001b[0mkey\u001b[0m\u001b[1;33m,\u001b[0m \u001b[0mvalue\u001b[0m\u001b[1;33m)\u001b[0m\u001b[1;33m:\u001b[0m\u001b[1;33m\u001b[0m\u001b[1;33m\u001b[0m\u001b[0m\n",
      "\u001b[1;32mD:\\Conda\\envs\\tensorflow\\lib\\site-packages\\pandas\\core\\frame.py\u001b[0m in \u001b[0;36m_set_item\u001b[1;34m(self, key, value)\u001b[0m\n\u001b[0;32m   2998\u001b[0m \u001b[1;33m\u001b[0m\u001b[0m\n\u001b[0;32m   2999\u001b[0m         \u001b[0mself\u001b[0m\u001b[1;33m.\u001b[0m\u001b[0m_ensure_valid_index\u001b[0m\u001b[1;33m(\u001b[0m\u001b[0mvalue\u001b[0m\u001b[1;33m)\u001b[0m\u001b[1;33m\u001b[0m\u001b[1;33m\u001b[0m\u001b[0m\n\u001b[1;32m-> 3000\u001b[1;33m         \u001b[0mvalue\u001b[0m \u001b[1;33m=\u001b[0m \u001b[0mself\u001b[0m\u001b[1;33m.\u001b[0m\u001b[0m_sanitize_column\u001b[0m\u001b[1;33m(\u001b[0m\u001b[0mkey\u001b[0m\u001b[1;33m,\u001b[0m \u001b[0mvalue\u001b[0m\u001b[1;33m)\u001b[0m\u001b[1;33m\u001b[0m\u001b[1;33m\u001b[0m\u001b[0m\n\u001b[0m\u001b[0;32m   3001\u001b[0m         \u001b[0mNDFrame\u001b[0m\u001b[1;33m.\u001b[0m\u001b[0m_set_item\u001b[0m\u001b[1;33m(\u001b[0m\u001b[0mself\u001b[0m\u001b[1;33m,\u001b[0m \u001b[0mkey\u001b[0m\u001b[1;33m,\u001b[0m \u001b[0mvalue\u001b[0m\u001b[1;33m)\u001b[0m\u001b[1;33m\u001b[0m\u001b[1;33m\u001b[0m\u001b[0m\n\u001b[0;32m   3002\u001b[0m \u001b[1;33m\u001b[0m\u001b[0m\n",
      "\u001b[1;32mD:\\Conda\\envs\\tensorflow\\lib\\site-packages\\pandas\\core\\frame.py\u001b[0m in \u001b[0;36m_sanitize_column\u001b[1;34m(self, key, value, broadcast)\u001b[0m\n\u001b[0;32m   3634\u001b[0m \u001b[1;33m\u001b[0m\u001b[0m\n\u001b[0;32m   3635\u001b[0m             \u001b[1;31m# turn me into an ndarray\u001b[0m\u001b[1;33m\u001b[0m\u001b[1;33m\u001b[0m\u001b[1;33m\u001b[0m\u001b[0m\n\u001b[1;32m-> 3636\u001b[1;33m             \u001b[0mvalue\u001b[0m \u001b[1;33m=\u001b[0m \u001b[0msanitize_index\u001b[0m\u001b[1;33m(\u001b[0m\u001b[0mvalue\u001b[0m\u001b[1;33m,\u001b[0m \u001b[0mself\u001b[0m\u001b[1;33m.\u001b[0m\u001b[0mindex\u001b[0m\u001b[1;33m,\u001b[0m \u001b[0mcopy\u001b[0m\u001b[1;33m=\u001b[0m\u001b[1;32mFalse\u001b[0m\u001b[1;33m)\u001b[0m\u001b[1;33m\u001b[0m\u001b[1;33m\u001b[0m\u001b[0m\n\u001b[0m\u001b[0;32m   3637\u001b[0m             \u001b[1;32mif\u001b[0m \u001b[1;32mnot\u001b[0m \u001b[0misinstance\u001b[0m\u001b[1;33m(\u001b[0m\u001b[0mvalue\u001b[0m\u001b[1;33m,\u001b[0m \u001b[1;33m(\u001b[0m\u001b[0mnp\u001b[0m\u001b[1;33m.\u001b[0m\u001b[0mndarray\u001b[0m\u001b[1;33m,\u001b[0m \u001b[0mIndex\u001b[0m\u001b[1;33m)\u001b[0m\u001b[1;33m)\u001b[0m\u001b[1;33m:\u001b[0m\u001b[1;33m\u001b[0m\u001b[1;33m\u001b[0m\u001b[0m\n\u001b[0;32m   3638\u001b[0m                 \u001b[1;32mif\u001b[0m \u001b[0misinstance\u001b[0m\u001b[1;33m(\u001b[0m\u001b[0mvalue\u001b[0m\u001b[1;33m,\u001b[0m \u001b[0mlist\u001b[0m\u001b[1;33m)\u001b[0m \u001b[1;32mand\u001b[0m \u001b[0mlen\u001b[0m\u001b[1;33m(\u001b[0m\u001b[0mvalue\u001b[0m\u001b[1;33m)\u001b[0m \u001b[1;33m>\u001b[0m \u001b[1;36m0\u001b[0m\u001b[1;33m:\u001b[0m\u001b[1;33m\u001b[0m\u001b[1;33m\u001b[0m\u001b[0m\n",
      "\u001b[1;32mD:\\Conda\\envs\\tensorflow\\lib\\site-packages\\pandas\\core\\internals\\construction.py\u001b[0m in \u001b[0;36msanitize_index\u001b[1;34m(data, index, copy)\u001b[0m\n\u001b[0;32m    609\u001b[0m \u001b[1;33m\u001b[0m\u001b[0m\n\u001b[0;32m    610\u001b[0m     \u001b[1;32mif\u001b[0m \u001b[0mlen\u001b[0m\u001b[1;33m(\u001b[0m\u001b[0mdata\u001b[0m\u001b[1;33m)\u001b[0m \u001b[1;33m!=\u001b[0m \u001b[0mlen\u001b[0m\u001b[1;33m(\u001b[0m\u001b[0mindex\u001b[0m\u001b[1;33m)\u001b[0m\u001b[1;33m:\u001b[0m\u001b[1;33m\u001b[0m\u001b[1;33m\u001b[0m\u001b[0m\n\u001b[1;32m--> 611\u001b[1;33m         \u001b[1;32mraise\u001b[0m \u001b[0mValueError\u001b[0m\u001b[1;33m(\u001b[0m\u001b[1;34m\"Length of values does not match length of index\"\u001b[0m\u001b[1;33m)\u001b[0m\u001b[1;33m\u001b[0m\u001b[1;33m\u001b[0m\u001b[0m\n\u001b[0m\u001b[0;32m    612\u001b[0m \u001b[1;33m\u001b[0m\u001b[0m\n\u001b[0;32m    613\u001b[0m     \u001b[1;32mif\u001b[0m \u001b[0misinstance\u001b[0m\u001b[1;33m(\u001b[0m\u001b[0mdata\u001b[0m\u001b[1;33m,\u001b[0m \u001b[0mABCIndexClass\u001b[0m\u001b[1;33m)\u001b[0m \u001b[1;32mand\u001b[0m \u001b[1;32mnot\u001b[0m \u001b[0mcopy\u001b[0m\u001b[1;33m:\u001b[0m\u001b[1;33m\u001b[0m\u001b[1;33m\u001b[0m\u001b[0m\n",
      "\u001b[1;31mValueError\u001b[0m: Length of values does not match length of index"
     ]
    }
   ],
   "source": [
    "# for each csv of manually labeled bounding boxes\n",
    "for map_idx,file in enumerate(glob.glob('./labeling_files/*.csv')):\n",
    "    if map_idx in (8,9,12):\n",
    "        continue\n",
    "    print(file)\n",
    "    b=[int(i) for i in file if i.isdigit()]\n",
    "    if len(b) == 2:\n",
    "        c = 10*b[0] + b[1]\n",
    "    else:\n",
    "        c = b[0]\n",
    "        \n",
    "    #retreive path to gps data\n",
    "    path = mapping[map_idx]\n",
    "    \n",
    "    #open bounding boxes\n",
    "    screendata = np.genfromtxt(file, delimiter=',')\n",
    "    \n",
    "    #read gps locations and corresponding UTC timestamps\n",
    "    with open(path, 'r') as file:\n",
    "        output = file.readlines()\n",
    "    trkpts = []\n",
    "    stamps = []\n",
    "    for line in output:\n",
    "        if '<trkpt' in line:\n",
    "            trkpts.append((float(line.split(\"\\\"\")[1]), float(line.split(\"\\\"\")[3])))\n",
    "        elif 'time' in line:\n",
    "            stamps.append(line.split('        <time>')[1].split('</time>\\n')[0])\n",
    "    trkpts = np.array(trkpts)\n",
    "    \n",
    "    #extract times from timestamps\n",
    "    new_gps_timestamps = []\n",
    "    for stamp in stamps:\n",
    "        new_gps_timestamps.append(stamp.split('T')[1][:-1])\n",
    "        \n",
    "    #get relative gps locations\n",
    "    trkpts_rel = np.array([(t-cam_lat,n-cam_lon) for t,n in trkpts])\n",
    "    \n",
    "    #get bottom center of bounding boxes \n",
    "    bboxes = screendata[:,1:]\n",
    "    center = []\n",
    "    for xLeft, yTop, width, height in bboxes:\n",
    "        xMin = math.ceil(xLeft)\n",
    "        xMax = xMin + width - 1\n",
    "        yMin = math.ceil(yTop)\n",
    "        yMax = yMin + height - 1\n",
    "        cx = xLeft+width/2\n",
    "        cy = yTop+height\n",
    "        center.append((cx-1280,cy-720))\n",
    "        \n",
    "    #read camera timestamps and fill zeros\n",
    "    log = [i for i in os.listdir('./camera_gps_logs/') if str(c) in i and 'cleaned' in i]\n",
    "    camera_df = pd.read_csv('./camera_gps_logs/'+log[0])\n",
    "    first_labeled = camera_df.loc[camera_df.estimated_time != '00:00:00']['estimated_time'].iloc[0]\n",
    "    first_labeled_frame = camera_df.loc[camera_df.estimated_time != '00:00:00']['Frame No.'].iloc[0]\n",
    "    num_first_labeled = len(camera_df.loc[camera_df.estimated_time == first_labeled])\n",
    "\n",
    "    if first_labeled_frame > 0:\n",
    "        if num_first_labeled < 25:\n",
    "            for i in range(first_labeled_frame-1,first_labeled_frame-(26-num_first_labeled),-1):\n",
    "                camera_df['estimated_time'].iloc[i] = first_labeled\n",
    "                first_labeled_frame = i\n",
    "#         for j in range(first_labeled_frame):\n",
    "#             print(j)\n",
    "#             prev_time = datetime.datetime.strptime(first_labeled, '%H:%M:%S') - datetime.timedelta(seconds = (first_labeled_frame-j)/fps)\n",
    "#             print(str(prev_time.time()))\n",
    "#             camera_df['estimated_time'].iloc[j] = str(prev_time.time())\n",
    "        prev_time = datetime.datetime.strptime(first_labeled, '%H:%M:%S') - datetime.timedelta(seconds = 1)\n",
    "        for j in range(first_labeled_frame):\n",
    "            camera_df['estimated_time'].iloc[j] = str(prev_time.time())\n",
    "    \n",
    "    frame_frequencies = dict(camera_df.estimated_time.value_counts())\n",
    "    \n",
    "    #append fractions of a second to each camera timestep\n",
    "#     for i, stamp in enumerate(camera_df.estimated_time):\n",
    "#         offset = (fps-first_labeled_frame)/fps + i/fps\n",
    "#         camera_df.estimated_time[i] = stamp + str(round(offset - int(offset),2))[1:]\n",
    "\n",
    "    timesteps = []\n",
    "    for i, stamp in enumerate(camera_df.estimated_time):\n",
    "        if i == 0:\n",
    "            t = 0\n",
    "        else:\n",
    "            t += 1/frame_frequencies[stamp]\n",
    "        timesteps.append(t)\n",
    "        \n",
    "    camera_df['time'] = timesteps\n",
    "\n",
    "    for stamp in camera_df.estimated_time.unique():\n",
    "        start = camera_df.estimated_time[camera_df.estimated_time == stamp].index[0]\n",
    "        fps = frame_frequencies[stamp]\n",
    "        for i in range(fps):\n",
    "            offset = (i)/fps\n",
    "            camera_df.estimated_time[start+i] = stamp + str(round(offset - int(offset),2))[1:]\n",
    "            \n",
    "    #interpolate gps timestamps\n",
    "    gps_stamps = pd.DataFrame(stamps, columns=['timestamp'])\n",
    "    frequencies = dict(gps_stamps.timestamp.value_counts())\n",
    "    for stamp, count in frequencies.items():\n",
    "        for i,(index,val) in enumerate(zip(gps_stamps[gps_stamps.timestamp == stamp].index, gps_stamps[gps_stamps.timestamp == stamp].timestamp)):\n",
    "            offset = (i+1)/25*int(25/(count+1))\n",
    "            try:\n",
    "                stamp = stamp.split('T')[1].split('Z')[0]\n",
    "            except:\n",
    "                stamp = stamp.split('T')[0]\n",
    "            gps_stamps.timestamp.iloc[index] = stamp + str(offset - int(offset))[1:]\n",
    "            \n",
    "    gps_stamps['gps_lat'] = trkpts[:,0]\n",
    "    gps_stamps['gps_lon'] = trkpts[:,1]\n",
    "    gps_stamps['gps_lat_rel'] = trkpts_rel[:,0]\n",
    "    gps_stamps['gps_lon_rel'] = trkpts_rel[:,1]\n",
    "    \n",
    "    #add gps ground truth to camera df\n",
    "#     lat = []\n",
    "#     lon = []\n",
    "#     for i,stamp in enumerate(camera_df.estimated_time):\n",
    "#         if str(stamp) in gps_stamps.timestamp.values:\n",
    "#             lat.append(gps_stamps[gps_stamps.timestamp == stamp].iloc[0].lat)\n",
    "#             lon.append(gps_stamps[gps_stamps.timestamp == stamp].iloc[0].lon)\n",
    "#         else:\n",
    "#             lat.append(None)\n",
    "#             lon.append(None)\n",
    "\n",
    "    camera_df['gps_lat'] = None\n",
    "    camera_df['gps_lon'] = None\n",
    "    start = datetime.datetime.strptime(camera_df.estimated_time[0], '%H:%M:%S.%f')\n",
    "    end = datetime.datetime.strptime(camera_df.estimated_time.iloc[-1], '%H:%M:%S.%f')\n",
    "    seconds = camera_df.time.values\n",
    "    for i,stamp in enumerate(gps_stamps.timestamp):\n",
    "        stamp = datetime.datetime.strptime(stamp, '%H:%M:%S.%f')\n",
    "        if stamp >= start and stamp <= end:\n",
    "            delta = (stamp - start).total_seconds()\n",
    "            idx = find_nearest(seconds, delta)\n",
    "            camera_df.gps_lat[idx] = gps_stamps.gps_lat[i]\n",
    "            camera_df.gps_lon[idx] = gps_stamps.gps_lon[i]\n",
    "            \n",
    "    camera_df['gps_lat_rel'] = camera_df.gps_lat - cam_lat \n",
    "    camera_df['gps_lon_rel'] = camera_df.gps_lon - cam_lon\n",
    "    \n",
    "    #add in screendata\n",
    "    camera_df['x'] = screendata[:,1]\n",
    "    camera_df['y'] = screendata[:,2]\n",
    "    camera_df['width'] = screendata[:,3]\n",
    "    camera_df['height'] = screendata[:,4]\n",
    "    camera_df['x_cent'] = (camera_df.x + camera_df.width/2).round()\n",
    "    camera_df['y_cent'] = (camera_df.y + camera_df.height).round()\n",
    "    \n",
    "    #filtering interpolating gps locations\n",
    "    data = camera_df\n",
    "    data_filt = data.dropna()\n",
    "    data_filt['dlat'] = np.gradient(data_filt.gps_lat_rel.values,data_filt.time.values)\n",
    "    data_filt['dlon'] = np.gradient(data_filt.gps_lon_rel.values,data_filt.time.values)\n",
    "    data_filt['d2lat'] = np.gradient(data_filt.dlat.values,data_filt.time.values)\n",
    "    data_filt['d2lon'] = np.gradient(data_filt.dlon.values,data_filt.time.values)\n",
    "    data_filt['d3lat'] = np.gradient(data_filt.d2lat.values,data_filt.time.values)\n",
    "    data_filt['d3lon'] = np.gradient(data_filt.d2lon.values,data_filt.time.values)\n",
    "    data_filt['d4lat'] = np.gradient(data_filt.d3lat.values,data_filt.time.values)\n",
    "    data_filt['d4lon'] = np.gradient(data_filt.d3lon.values,data_filt.time.values)\n",
    "\n",
    "    lat_interp = np.interp(data.time.values.astype(np.float64),data_filt.time.values.astype(np.float64),data_filt.gps_lat_rel.values.astype(np.float64))\n",
    "    lon_interp = np.interp(data.time.values.astype(np.float64),data_filt.time.values.astype(np.float64),data_filt.gps_lon_rel.values.astype(np.float64))\n",
    "    data['lat_int'] = lat_interp\n",
    "    data['lon_int'] = lon_interp\n",
    "    \n",
    "    #saving\n",
    "    data.to_csv(f'./fully_correlated_data/data_{c}.csv', index = False)\n",
    "    data_filt.to_csv(f'./fully_correlated_data/data_filt_{c}.csv', index = False)"
   ]
  },
  {
   "cell_type": "code",
   "execution_count": 204,
   "metadata": {},
   "outputs": [
    {
     "data": {
      "text/plain": [
       "[<matplotlib.lines.Line2D at 0x1f8ca0c7188>]"
      ]
     },
     "execution_count": 204,
     "metadata": {},
     "output_type": "execute_result"
    },
    {
     "data": {
      "image/png": "[encoded data removed]",
      "text/plain": [
       "<Figure size 432x288 with 1 Axes>"
      ]
     },
     "metadata": {
      "needs_background": "light"
     },
     "output_type": "display_data"
    }
   ],
   "source": [
    "plt.xlim(left=0,right=1280)\n",
    "plt.ylim(top=0,bottom=720)\n",
    "plt.plot(data.x_cent,data.y_cent)"
   ]
  },
  {
   "cell_type": "code",
   "execution_count": 207,
   "metadata": {},
   "outputs": [
    {
     "data": {
      "text/plain": [
       "[<matplotlib.lines.Line2D at 0x1f8ca39ef88>]"
      ]
     },
     "execution_count": 207,
     "metadata": {},
     "output_type": "execute_result"
    },
    {
     "data": {
      "image/png": "[encoded data removed]",
      "text/plain": [
       "<Figure size 432x288 with 1 Axes>"
      ]
     },
     "metadata": {
      "needs_background": "light"
     },
     "output_type": "display_data"
    }
   ],
   "source": [
    "plt.plot(data.lon_int,data.lat_int)"
   ]
  },
  {
   "cell_type": "code",
   "execution_count": 208,
   "metadata": {},
   "outputs": [
    {
     "data": {
      "text/plain": [
       "[<matplotlib.lines.Line2D at 0x1f8ca3c6588>]"
      ]
     },
     "execution_count": 208,
     "metadata": {},
     "output_type": "execute_result"
    },
    {
     "data": {
      "image/png": "[encoded data removed]",
      "text/plain": [
       "<Figure size 432x288 with 1 Axes>"
      ]
     },
     "metadata": {
      "needs_background": "light"
     },
     "output_type": "display_data"
    }
   ],
   "source": [
    "plt.plot(data_filt.gps_lon,data_filt.gps_lat)"
   ]
  },
  {
   "cell_type": "code",
   "execution_count": null,
   "metadata": {},
   "outputs": [],
   "source": []
  }
 ],
 "metadata": {
  "kernelspec": {
   "display_name": "tf",
   "language": "python",
   "name": "tf"
  },
  "language_info": {
   "codemirror_mode": {
    "name": "ipython",
    "version": 3
   },
   "file_extension": ".py",
   "mimetype": "text/x-python",
   "name": "python",
   "nbconvert_exporter": "python",
   "pygments_lexer": "ipython3",
   "version": "3.7.7"
  }
 },
 "nbformat": 4,
 "nbformat_minor": 4
}
