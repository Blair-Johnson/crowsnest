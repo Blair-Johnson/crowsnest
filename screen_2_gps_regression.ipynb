{
 "cells": [
  {
   "cell_type": "code",
   "execution_count": 1,
   "metadata": {},
   "outputs": [],
   "source": [
    "import numpy as np\n",
    "import matplotlib.pyplot as plt\n",
    "import pandas as pd\n",
    "import tensorflow as tf\n",
    "import tensorflow.keras as keras"
   ]
  },
  {
   "cell_type": "code",
   "execution_count": 16,
   "metadata": {},
   "outputs": [],
   "source": [
    "d21 = pd.read_csv('./fully_correlated_data/data_21.csv')\n",
    "d22 = pd.read_csv('./fully_correlated_data/data_22.csv')\n",
    "d10 = pd.read_csv('./fully_correlated_data/data_10.csv')\n",
    "d11 = pd.read_csv('./fully_correlated_data/data_11.csv')\n",
    "d12 = pd.read_csv('./fully_correlated_data/data_12.csv')\n",
    "d13 = pd.read_csv('./fully_correlated_data/data_13.csv')\n",
    "d14 = pd.read_csv('./fully_correlated_data/data_14.csv')\n",
    "d15 = pd.read_csv('./fully_correlated_data/data_15.csv')\n",
    "d16 = pd.read_csv('./fully_correlated_data/data_16.csv')\n",
    "d17 = pd.read_csv('./fully_correlated_data/data_17.csv')"
   ]
  },
  {
   "cell_type": "code",
   "execution_count": 21,
   "metadata": {},
   "outputs": [],
   "source": [
    "comb_data = pd.concat([d10,d11,d12,d13,d14,d15,d16,d17,d21,d22], ignore_index = True)"
   ]
  },
  {
   "cell_type": "code",
   "execution_count": 24,
   "metadata": {},
   "outputs": [],
   "source": [
    "comb_filt = comb_data.dropna()"
   ]
  },
  {
   "cell_type": "code",
   "execution_count": 26,
   "metadata": {},
   "outputs": [
    {
     "data": {
      "text/plain": [
       "[<matplotlib.lines.Line2D at 0x164e55cd148>]"
      ]
     },
     "execution_count": 26,
     "metadata": {},
     "output_type": "execute_result"
    },
    {
     "data": {
      "image/png": "[encoded data removed]",
      "text/plain": [
       "<Figure size 432x288 with 1 Axes>"
      ]
     },
     "metadata": {
      "needs_background": "light"
     },
     "output_type": "display_data"
    }
   ],
   "source": [
    "plt.xlim(left=0,right=1280)\n",
    "plt.ylim(top=0,bottom=720)\n",
    "plt.plot(comb_data.x_cent,comb_data.y_cent)"
   ]
  },
  {
   "cell_type": "code",
   "execution_count": 27,
   "metadata": {},
   "outputs": [],
   "source": [
    "RH_Point = np.array([-117.2244901, 32.6990683])\n",
    "CAM = np.array([-117.2344652, 32.7029769])\n",
    "RHS = (RH_Point-CAM)/np.linalg.norm(RH_Point-CAM)"
   ]
  },
  {
   "cell_type": "code",
   "execution_count": 28,
   "metadata": {},
   "outputs": [],
   "source": [
    "RHS_Ang = np.arctan2(RHS[1],RHS[0])"
   ]
  },
  {
   "cell_type": "code",
   "execution_count": 37,
   "metadata": {},
   "outputs": [
    {
     "data": {
      "text/html": [
       "<div>\n",
       "<style scoped>\n",
       "    .dataframe tbody tr th:only-of-type {\n",
       "        vertical-align: middle;\n",
       "    }\n",
       "\n",
       "    .dataframe tbody tr th {\n",
       "        vertical-align: top;\n",
       "    }\n",
       "\n",
       "    .dataframe thead th {\n",
       "        text-align: right;\n",
       "    }\n",
       "</style>\n",
       "<table border=\"1\" class=\"dataframe\">\n",
       "  <thead>\n",
       "    <tr style=\"text-align: right;\">\n",
       "      <th></th>\n",
       "      <th>Frame No.</th>\n",
       "      <th>UTC Timestamp</th>\n",
       "      <th>Lat</th>\n",
       "      <th>Long</th>\n",
       "      <th>estimated_time</th>\n",
       "      <th>time</th>\n",
       "      <th>gps_lat</th>\n",
       "      <th>gps_lon</th>\n",
       "      <th>gps_lat_rel</th>\n",
       "      <th>gps_lon_rel</th>\n",
       "      <th>x</th>\n",
       "      <th>y</th>\n",
       "      <th>width</th>\n",
       "      <th>height</th>\n",
       "      <th>x_cent</th>\n",
       "      <th>y_cent</th>\n",
       "      <th>lat_int</th>\n",
       "      <th>lon_int</th>\n",
       "      <th>angles</th>\n",
       "    </tr>\n",
       "  </thead>\n",
       "  <tbody>\n",
       "    <tr>\n",
       "      <th>0</th>\n",
       "      <td>0</td>\n",
       "      <td>19:48:52</td>\n",
       "      <td>32.70297</td>\n",
       "      <td>-117.234631</td>\n",
       "      <td>19:48:56.0</td>\n",
       "      <td>0.000000</td>\n",
       "      <td>NaN</td>\n",
       "      <td>NaN</td>\n",
       "      <td>NaN</td>\n",
       "      <td>NaN</td>\n",
       "      <td>1069.0</td>\n",
       "      <td>426.00</td>\n",
       "      <td>33.0</td>\n",
       "      <td>12.000</td>\n",
       "      <td>1086.0</td>\n",
       "      <td>438.0</td>\n",
       "      <td>-0.000296</td>\n",
       "      <td>0.001517</td>\n",
       "      <td>-0.192723</td>\n",
       "    </tr>\n",
       "    <tr>\n",
       "      <th>1</th>\n",
       "      <td>1</td>\n",
       "      <td>19:48:52</td>\n",
       "      <td>32.70297</td>\n",
       "      <td>-117.234631</td>\n",
       "      <td>19:48:56.06</td>\n",
       "      <td>0.055556</td>\n",
       "      <td>NaN</td>\n",
       "      <td>NaN</td>\n",
       "      <td>NaN</td>\n",
       "      <td>NaN</td>\n",
       "      <td>1068.5</td>\n",
       "      <td>426.01</td>\n",
       "      <td>33.0</td>\n",
       "      <td>11.993</td>\n",
       "      <td>1085.0</td>\n",
       "      <td>438.0</td>\n",
       "      <td>-0.000296</td>\n",
       "      <td>0.001517</td>\n",
       "      <td>-0.192723</td>\n",
       "    </tr>\n",
       "    <tr>\n",
       "      <th>2</th>\n",
       "      <td>2</td>\n",
       "      <td>19:48:52</td>\n",
       "      <td>32.70297</td>\n",
       "      <td>-117.234631</td>\n",
       "      <td>19:48:56.11</td>\n",
       "      <td>0.111111</td>\n",
       "      <td>NaN</td>\n",
       "      <td>NaN</td>\n",
       "      <td>NaN</td>\n",
       "      <td>NaN</td>\n",
       "      <td>1068.1</td>\n",
       "      <td>426.03</td>\n",
       "      <td>33.0</td>\n",
       "      <td>11.986</td>\n",
       "      <td>1085.0</td>\n",
       "      <td>438.0</td>\n",
       "      <td>-0.000296</td>\n",
       "      <td>0.001517</td>\n",
       "      <td>-0.192723</td>\n",
       "    </tr>\n",
       "    <tr>\n",
       "      <th>3</th>\n",
       "      <td>3</td>\n",
       "      <td>19:48:52</td>\n",
       "      <td>32.70297</td>\n",
       "      <td>-117.234631</td>\n",
       "      <td>19:48:56.17</td>\n",
       "      <td>0.166667</td>\n",
       "      <td>NaN</td>\n",
       "      <td>NaN</td>\n",
       "      <td>NaN</td>\n",
       "      <td>NaN</td>\n",
       "      <td>1067.6</td>\n",
       "      <td>426.04</td>\n",
       "      <td>33.0</td>\n",
       "      <td>11.979</td>\n",
       "      <td>1084.0</td>\n",
       "      <td>438.0</td>\n",
       "      <td>-0.000296</td>\n",
       "      <td>0.001517</td>\n",
       "      <td>-0.192723</td>\n",
       "    </tr>\n",
       "    <tr>\n",
       "      <th>4</th>\n",
       "      <td>4</td>\n",
       "      <td>19:48:52</td>\n",
       "      <td>32.70297</td>\n",
       "      <td>-117.234631</td>\n",
       "      <td>19:48:56.22</td>\n",
       "      <td>0.222222</td>\n",
       "      <td>NaN</td>\n",
       "      <td>NaN</td>\n",
       "      <td>NaN</td>\n",
       "      <td>NaN</td>\n",
       "      <td>1067.1</td>\n",
       "      <td>426.06</td>\n",
       "      <td>33.0</td>\n",
       "      <td>11.972</td>\n",
       "      <td>1084.0</td>\n",
       "      <td>438.0</td>\n",
       "      <td>-0.000296</td>\n",
       "      <td>0.001517</td>\n",
       "      <td>-0.192723</td>\n",
       "    </tr>\n",
       "  </tbody>\n",
       "</table>\n",
       "</div>"
      ],
      "text/plain": [
       "   Frame No. UTC Timestamp       Lat        Long estimated_time      time  \\\n",
       "0          0      19:48:52  32.70297 -117.234631     19:48:56.0  0.000000   \n",
       "1          1      19:48:52  32.70297 -117.234631    19:48:56.06  0.055556   \n",
       "2          2      19:48:52  32.70297 -117.234631    19:48:56.11  0.111111   \n",
       "3          3      19:48:52  32.70297 -117.234631    19:48:56.17  0.166667   \n",
       "4          4      19:48:52  32.70297 -117.234631    19:48:56.22  0.222222   \n",
       "\n",
       "   gps_lat  gps_lon  gps_lat_rel  gps_lon_rel       x       y  width  height  \\\n",
       "0      NaN      NaN          NaN          NaN  1069.0  426.00   33.0  12.000   \n",
       "1      NaN      NaN          NaN          NaN  1068.5  426.01   33.0  11.993   \n",
       "2      NaN      NaN          NaN          NaN  1068.1  426.03   33.0  11.986   \n",
       "3      NaN      NaN          NaN          NaN  1067.6  426.04   33.0  11.979   \n",
       "4      NaN      NaN          NaN          NaN  1067.1  426.06   33.0  11.972   \n",
       "\n",
       "   x_cent  y_cent   lat_int   lon_int    angles  \n",
       "0  1086.0   438.0 -0.000296  0.001517 -0.192723  \n",
       "1  1085.0   438.0 -0.000296  0.001517 -0.192723  \n",
       "2  1085.0   438.0 -0.000296  0.001517 -0.192723  \n",
       "3  1084.0   438.0 -0.000296  0.001517 -0.192723  \n",
       "4  1084.0   438.0 -0.000296  0.001517 -0.192723  "
      ]
     },
     "execution_count": 37,
     "metadata": {},
     "output_type": "execute_result"
    }
   ],
   "source": [
    "comb_data.head()"
   ]
  },
  {
   "cell_type": "code",
   "execution_count": 31,
   "metadata": {},
   "outputs": [],
   "source": [
    "angles = np.arctan2(comb_data.lat_int.values,comb_data.lon_int.values)"
   ]
  },
  {
   "cell_type": "code",
   "execution_count": 32,
   "metadata": {},
   "outputs": [],
   "source": [
    "comb_data['angles'] = angles"
   ]
  },
  {
   "cell_type": "code",
   "execution_count": 44,
   "metadata": {
    "scrolled": true
   },
   "outputs": [],
   "source": [
    "comb_data['angle_offset'] = angles - RHS_Ang"
   ]
  },
  {
   "cell_type": "code",
   "execution_count": 67,
   "metadata": {},
   "outputs": [],
   "source": [
    "min_err = 1e10\n",
    "best = None\n",
    "error = []\n",
    "iis = []\n",
    "for i in np.arange(1,1.5,.0001):\n",
    "    agr = (comb_data.angle_offset/i).values\n",
    "    x_prop = (1-comb_data.x_cent/1280).values\n",
    "    err = ((x_prop-agr)**2).mean()\n",
    "    error.append(err)\n",
    "    iis.append(i)\n",
    "    if err < min_err:\n",
    "        min_err = err\n",
    "        best = i\n",
    "        \n",
    "FOV = best"
   ]
  },
  {
   "cell_type": "code",
   "execution_count": 68,
   "metadata": {},
   "outputs": [
    {
     "data": {
      "text/plain": [
       "[<matplotlib.lines.Line2D at 0x164e5885e88>]"
      ]
     },
     "execution_count": 68,
     "metadata": {},
     "output_type": "execute_result"
    },
    {
     "data": {
      "image/png": "[encoded data removed]",
      "text/plain": [
       "<Figure size 432x288 with 1 Axes>"
      ]
     },
     "metadata": {
      "needs_background": "light"
     },
     "output_type": "display_data"
    }
   ],
   "source": [
    "plt.plot(iis,error)"
   ]
  },
  {
   "cell_type": "code",
   "execution_count": 70,
   "metadata": {},
   "outputs": [],
   "source": [
    "comb_data['angle_rel'] = comb_data.angle_offset/FOV"
   ]
  },
  {
   "cell_type": "code",
   "execution_count": 71,
   "metadata": {},
   "outputs": [
    {
     "data": {
      "text/html": [
       "<div>\n",
       "<style scoped>\n",
       "    .dataframe tbody tr th:only-of-type {\n",
       "        vertical-align: middle;\n",
       "    }\n",
       "\n",
       "    .dataframe tbody tr th {\n",
       "        vertical-align: top;\n",
       "    }\n",
       "\n",
       "    .dataframe thead th {\n",
       "        text-align: right;\n",
       "    }\n",
       "</style>\n",
       "<table border=\"1\" class=\"dataframe\">\n",
       "  <thead>\n",
       "    <tr style=\"text-align: right;\">\n",
       "      <th></th>\n",
       "      <th>Frame No.</th>\n",
       "      <th>UTC Timestamp</th>\n",
       "      <th>Lat</th>\n",
       "      <th>Long</th>\n",
       "      <th>estimated_time</th>\n",
       "      <th>time</th>\n",
       "      <th>gps_lat</th>\n",
       "      <th>gps_lon</th>\n",
       "      <th>gps_lat_rel</th>\n",
       "      <th>gps_lon_rel</th>\n",
       "      <th>...</th>\n",
       "      <th>y</th>\n",
       "      <th>width</th>\n",
       "      <th>height</th>\n",
       "      <th>x_cent</th>\n",
       "      <th>y_cent</th>\n",
       "      <th>lat_int</th>\n",
       "      <th>lon_int</th>\n",
       "      <th>angles</th>\n",
       "      <th>angle_offset</th>\n",
       "      <th>angle_rel</th>\n",
       "    </tr>\n",
       "  </thead>\n",
       "  <tbody>\n",
       "    <tr>\n",
       "      <th>0</th>\n",
       "      <td>0</td>\n",
       "      <td>19:48:52</td>\n",
       "      <td>32.70297</td>\n",
       "      <td>-117.234631</td>\n",
       "      <td>19:48:56.0</td>\n",
       "      <td>0.000000</td>\n",
       "      <td>NaN</td>\n",
       "      <td>NaN</td>\n",
       "      <td>NaN</td>\n",
       "      <td>NaN</td>\n",
       "      <td>...</td>\n",
       "      <td>426.00</td>\n",
       "      <td>33.00</td>\n",
       "      <td>12.000</td>\n",
       "      <td>1086.0</td>\n",
       "      <td>438.0</td>\n",
       "      <td>-0.000296</td>\n",
       "      <td>0.001517</td>\n",
       "      <td>-0.192723</td>\n",
       "      <td>0.180726</td>\n",
       "      <td>0.150504</td>\n",
       "    </tr>\n",
       "    <tr>\n",
       "      <th>1</th>\n",
       "      <td>1</td>\n",
       "      <td>19:48:52</td>\n",
       "      <td>32.70297</td>\n",
       "      <td>-117.234631</td>\n",
       "      <td>19:48:56.06</td>\n",
       "      <td>0.055556</td>\n",
       "      <td>NaN</td>\n",
       "      <td>NaN</td>\n",
       "      <td>NaN</td>\n",
       "      <td>NaN</td>\n",
       "      <td>...</td>\n",
       "      <td>426.01</td>\n",
       "      <td>33.00</td>\n",
       "      <td>11.993</td>\n",
       "      <td>1085.0</td>\n",
       "      <td>438.0</td>\n",
       "      <td>-0.000296</td>\n",
       "      <td>0.001517</td>\n",
       "      <td>-0.192723</td>\n",
       "      <td>0.180726</td>\n",
       "      <td>0.150504</td>\n",
       "    </tr>\n",
       "    <tr>\n",
       "      <th>2</th>\n",
       "      <td>2</td>\n",
       "      <td>19:48:52</td>\n",
       "      <td>32.70297</td>\n",
       "      <td>-117.234631</td>\n",
       "      <td>19:48:56.11</td>\n",
       "      <td>0.111111</td>\n",
       "      <td>NaN</td>\n",
       "      <td>NaN</td>\n",
       "      <td>NaN</td>\n",
       "      <td>NaN</td>\n",
       "      <td>...</td>\n",
       "      <td>426.03</td>\n",
       "      <td>33.00</td>\n",
       "      <td>11.986</td>\n",
       "      <td>1085.0</td>\n",
       "      <td>438.0</td>\n",
       "      <td>-0.000296</td>\n",
       "      <td>0.001517</td>\n",
       "      <td>-0.192723</td>\n",
       "      <td>0.180726</td>\n",
       "      <td>0.150504</td>\n",
       "    </tr>\n",
       "    <tr>\n",
       "      <th>3</th>\n",
       "      <td>3</td>\n",
       "      <td>19:48:52</td>\n",
       "      <td>32.70297</td>\n",
       "      <td>-117.234631</td>\n",
       "      <td>19:48:56.17</td>\n",
       "      <td>0.166667</td>\n",
       "      <td>NaN</td>\n",
       "      <td>NaN</td>\n",
       "      <td>NaN</td>\n",
       "      <td>NaN</td>\n",
       "      <td>...</td>\n",
       "      <td>426.04</td>\n",
       "      <td>33.00</td>\n",
       "      <td>11.979</td>\n",
       "      <td>1084.0</td>\n",
       "      <td>438.0</td>\n",
       "      <td>-0.000296</td>\n",
       "      <td>0.001517</td>\n",
       "      <td>-0.192723</td>\n",
       "      <td>0.180726</td>\n",
       "      <td>0.150504</td>\n",
       "    </tr>\n",
       "    <tr>\n",
       "      <th>4</th>\n",
       "      <td>4</td>\n",
       "      <td>19:48:52</td>\n",
       "      <td>32.70297</td>\n",
       "      <td>-117.234631</td>\n",
       "      <td>19:48:56.22</td>\n",
       "      <td>0.222222</td>\n",
       "      <td>NaN</td>\n",
       "      <td>NaN</td>\n",
       "      <td>NaN</td>\n",
       "      <td>NaN</td>\n",
       "      <td>...</td>\n",
       "      <td>426.06</td>\n",
       "      <td>33.00</td>\n",
       "      <td>11.972</td>\n",
       "      <td>1084.0</td>\n",
       "      <td>438.0</td>\n",
       "      <td>-0.000296</td>\n",
       "      <td>0.001517</td>\n",
       "      <td>-0.192723</td>\n",
       "      <td>0.180726</td>\n",
       "      <td>0.150504</td>\n",
       "    </tr>\n",
       "    <tr>\n",
       "      <th>...</th>\n",
       "      <td>...</td>\n",
       "      <td>...</td>\n",
       "      <td>...</td>\n",
       "      <td>...</td>\n",
       "      <td>...</td>\n",
       "      <td>...</td>\n",
       "      <td>...</td>\n",
       "      <td>...</td>\n",
       "      <td>...</td>\n",
       "      <td>...</td>\n",
       "      <td>...</td>\n",
       "      <td>...</td>\n",
       "      <td>...</td>\n",
       "      <td>...</td>\n",
       "      <td>...</td>\n",
       "      <td>...</td>\n",
       "      <td>...</td>\n",
       "      <td>...</td>\n",
       "      <td>...</td>\n",
       "      <td>...</td>\n",
       "      <td>...</td>\n",
       "    </tr>\n",
       "    <tr>\n",
       "      <th>34579</th>\n",
       "      <td>3006</td>\n",
       "      <td>19:41:14</td>\n",
       "      <td>32.70297</td>\n",
       "      <td>-117.234631</td>\n",
       "      <td>19:41:15.29</td>\n",
       "      <td>136.396313</td>\n",
       "      <td>NaN</td>\n",
       "      <td>NaN</td>\n",
       "      <td>NaN</td>\n",
       "      <td>NaN</td>\n",
       "      <td>...</td>\n",
       "      <td>471.13</td>\n",
       "      <td>133.38</td>\n",
       "      <td>41.750</td>\n",
       "      <td>1147.0</td>\n",
       "      <td>513.0</td>\n",
       "      <td>-0.000076</td>\n",
       "      <td>0.000330</td>\n",
       "      <td>-0.226596</td>\n",
       "      <td>0.146853</td>\n",
       "      <td>0.122296</td>\n",
       "    </tr>\n",
       "    <tr>\n",
       "      <th>34580</th>\n",
       "      <td>3007</td>\n",
       "      <td>19:41:14</td>\n",
       "      <td>32.70297</td>\n",
       "      <td>-117.234631</td>\n",
       "      <td>19:41:15.43</td>\n",
       "      <td>136.539171</td>\n",
       "      <td>32.702901</td>\n",
       "      <td>-117.234301</td>\n",
       "      <td>-0.000076</td>\n",
       "      <td>0.000330</td>\n",
       "      <td>...</td>\n",
       "      <td>471.09</td>\n",
       "      <td>133.03</td>\n",
       "      <td>41.813</td>\n",
       "      <td>1147.0</td>\n",
       "      <td>513.0</td>\n",
       "      <td>-0.000076</td>\n",
       "      <td>0.000330</td>\n",
       "      <td>-0.225368</td>\n",
       "      <td>0.148080</td>\n",
       "      <td>0.123318</td>\n",
       "    </tr>\n",
       "    <tr>\n",
       "      <th>34581</th>\n",
       "      <td>3008</td>\n",
       "      <td>19:41:14</td>\n",
       "      <td>32.70297</td>\n",
       "      <td>-117.234631</td>\n",
       "      <td>19:41:15.57</td>\n",
       "      <td>136.682028</td>\n",
       "      <td>NaN</td>\n",
       "      <td>NaN</td>\n",
       "      <td>NaN</td>\n",
       "      <td>NaN</td>\n",
       "      <td>...</td>\n",
       "      <td>471.06</td>\n",
       "      <td>132.69</td>\n",
       "      <td>41.875</td>\n",
       "      <td>1146.0</td>\n",
       "      <td>513.0</td>\n",
       "      <td>-0.000074</td>\n",
       "      <td>0.000331</td>\n",
       "      <td>-0.218860</td>\n",
       "      <td>0.154588</td>\n",
       "      <td>0.128737</td>\n",
       "    </tr>\n",
       "    <tr>\n",
       "      <th>34582</th>\n",
       "      <td>3009</td>\n",
       "      <td>19:41:14</td>\n",
       "      <td>32.70297</td>\n",
       "      <td>-117.234631</td>\n",
       "      <td>19:41:15.71</td>\n",
       "      <td>136.824885</td>\n",
       "      <td>NaN</td>\n",
       "      <td>NaN</td>\n",
       "      <td>NaN</td>\n",
       "      <td>NaN</td>\n",
       "      <td>...</td>\n",
       "      <td>471.03</td>\n",
       "      <td>132.34</td>\n",
       "      <td>41.938</td>\n",
       "      <td>1145.0</td>\n",
       "      <td>513.0</td>\n",
       "      <td>-0.000072</td>\n",
       "      <td>0.000332</td>\n",
       "      <td>-0.212360</td>\n",
       "      <td>0.161088</td>\n",
       "      <td>0.134151</td>\n",
       "    </tr>\n",
       "    <tr>\n",
       "      <th>34583</th>\n",
       "      <td>3010</td>\n",
       "      <td>19:41:14</td>\n",
       "      <td>32.70297</td>\n",
       "      <td>-117.234631</td>\n",
       "      <td>19:41:15.86</td>\n",
       "      <td>136.967742</td>\n",
       "      <td>32.702908</td>\n",
       "      <td>-117.234299</td>\n",
       "      <td>-0.000069</td>\n",
       "      <td>0.000332</td>\n",
       "      <td>...</td>\n",
       "      <td>471.00</td>\n",
       "      <td>132.00</td>\n",
       "      <td>42.000</td>\n",
       "      <td>1145.0</td>\n",
       "      <td>513.0</td>\n",
       "      <td>-0.000069</td>\n",
       "      <td>0.000332</td>\n",
       "      <td>-0.205868</td>\n",
       "      <td>0.167580</td>\n",
       "      <td>0.139557</td>\n",
       "    </tr>\n",
       "  </tbody>\n",
       "</table>\n",
       "<p>34584 rows × 21 columns</p>\n",
       "</div>"
      ],
      "text/plain": [
       "       Frame No. UTC Timestamp       Lat        Long estimated_time  \\\n",
       "0              0      19:48:52  32.70297 -117.234631     19:48:56.0   \n",
       "1              1      19:48:52  32.70297 -117.234631    19:48:56.06   \n",
       "2              2      19:48:52  32.70297 -117.234631    19:48:56.11   \n",
       "3              3      19:48:52  32.70297 -117.234631    19:48:56.17   \n",
       "4              4      19:48:52  32.70297 -117.234631    19:48:56.22   \n",
       "...          ...           ...       ...         ...            ...   \n",
       "34579       3006      19:41:14  32.70297 -117.234631    19:41:15.29   \n",
       "34580       3007      19:41:14  32.70297 -117.234631    19:41:15.43   \n",
       "34581       3008      19:41:14  32.70297 -117.234631    19:41:15.57   \n",
       "34582       3009      19:41:14  32.70297 -117.234631    19:41:15.71   \n",
       "34583       3010      19:41:14  32.70297 -117.234631    19:41:15.86   \n",
       "\n",
       "             time    gps_lat     gps_lon  gps_lat_rel  gps_lon_rel  ...  \\\n",
       "0        0.000000        NaN         NaN          NaN          NaN  ...   \n",
       "1        0.055556        NaN         NaN          NaN          NaN  ...   \n",
       "2        0.111111        NaN         NaN          NaN          NaN  ...   \n",
       "3        0.166667        NaN         NaN          NaN          NaN  ...   \n",
       "4        0.222222        NaN         NaN          NaN          NaN  ...   \n",
       "...           ...        ...         ...          ...          ...  ...   \n",
       "34579  136.396313        NaN         NaN          NaN          NaN  ...   \n",
       "34580  136.539171  32.702901 -117.234301    -0.000076     0.000330  ...   \n",
       "34581  136.682028        NaN         NaN          NaN          NaN  ...   \n",
       "34582  136.824885        NaN         NaN          NaN          NaN  ...   \n",
       "34583  136.967742  32.702908 -117.234299    -0.000069     0.000332  ...   \n",
       "\n",
       "            y   width  height  x_cent  y_cent   lat_int   lon_int    angles  \\\n",
       "0      426.00   33.00  12.000  1086.0   438.0 -0.000296  0.001517 -0.192723   \n",
       "1      426.01   33.00  11.993  1085.0   438.0 -0.000296  0.001517 -0.192723   \n",
       "2      426.03   33.00  11.986  1085.0   438.0 -0.000296  0.001517 -0.192723   \n",
       "3      426.04   33.00  11.979  1084.0   438.0 -0.000296  0.001517 -0.192723   \n",
       "4      426.06   33.00  11.972  1084.0   438.0 -0.000296  0.001517 -0.192723   \n",
       "...       ...     ...     ...     ...     ...       ...       ...       ...   \n",
       "34579  471.13  133.38  41.750  1147.0   513.0 -0.000076  0.000330 -0.226596   \n",
       "34580  471.09  133.03  41.813  1147.0   513.0 -0.000076  0.000330 -0.225368   \n",
       "34581  471.06  132.69  41.875  1146.0   513.0 -0.000074  0.000331 -0.218860   \n",
       "34582  471.03  132.34  41.938  1145.0   513.0 -0.000072  0.000332 -0.212360   \n",
       "34583  471.00  132.00  42.000  1145.0   513.0 -0.000069  0.000332 -0.205868   \n",
       "\n",
       "       angle_offset  angle_rel  \n",
       "0          0.180726   0.150504  \n",
       "1          0.180726   0.150504  \n",
       "2          0.180726   0.150504  \n",
       "3          0.180726   0.150504  \n",
       "4          0.180726   0.150504  \n",
       "...             ...        ...  \n",
       "34579      0.146853   0.122296  \n",
       "34580      0.148080   0.123318  \n",
       "34581      0.154588   0.128737  \n",
       "34582      0.161088   0.134151  \n",
       "34583      0.167580   0.139557  \n",
       "\n",
       "[34584 rows x 21 columns]"
      ]
     },
     "execution_count": 71,
     "metadata": {},
     "output_type": "execute_result"
    }
   ],
   "source": [
    "comb_data"
   ]
  },
  {
   "cell_type": "code",
   "execution_count": 230,
   "metadata": {},
   "outputs": [],
   "source": [
    "a = (full_data_6.angles.values-RHS_Ang) / (np.sin((1280-full_data_6.x.values)/1280)*np.pi)"
   ]
  },
  {
   "cell_type": "code",
   "execution_count": 231,
   "metadata": {},
   "outputs": [
    {
     "data": {
      "text/plain": [
       "[<matplotlib.lines.Line2D at 0x2c11ac337c8>]"
      ]
     },
     "execution_count": 231,
     "metadata": {},
     "output_type": "execute_result"
    },
    {
     "data": {
      "image/png": "[encoded data removed]",
      "text/plain": [
       "<Figure size 432x288 with 1 Axes>"
      ]
     },
     "metadata": {
      "needs_background": "light"
     },
     "output_type": "display_data"
    }
   ],
   "source": [
    "plt.plot(a)"
   ]
  },
  {
   "cell_type": "code",
   "execution_count": 236,
   "metadata": {},
   "outputs": [],
   "source": [
    "rel_ang = full_data_6.angles.values-RHS_Ang"
   ]
  },
  {
   "cell_type": "code",
   "execution_count": 237,
   "metadata": {},
   "outputs": [],
   "source": [
    "pred_ang = np.mean(a)*np.sin((1280-data.x.values)/1280*np.pi)"
   ]
  },
  {
   "cell_type": "code",
   "execution_count": 239,
   "metadata": {},
   "outputs": [
    {
     "data": {
      "text/plain": [
       "0.08149611326351744"
      ]
     },
     "execution_count": 239,
     "metadata": {},
     "output_type": "execute_result"
    }
   ],
   "source": [
    "((rel_ang-pred_ang)**2).mean()"
   ]
  },
  {
   "cell_type": "code",
   "execution_count": 96,
   "metadata": {},
   "outputs": [
    {
     "data": {
      "text/plain": [
       "71.56739645393593"
      ]
     },
     "execution_count": 96,
     "metadata": {},
     "output_type": "execute_result"
    }
   ],
   "source": [
    "np.mean(a)*180/np.pi"
   ]
  },
  {
   "cell_type": "code",
   "execution_count": 93,
   "metadata": {},
   "outputs": [
    {
     "data": {
      "text/plain": [
       "68.75493541569878"
      ]
     },
     "execution_count": 93,
     "metadata": {},
     "output_type": "execute_result"
    }
   ],
   "source": [
    "1.2*180/np.pi"
   ]
  },
  {
   "cell_type": "code",
   "execution_count": 226,
   "metadata": {},
   "outputs": [
    {
     "data": {
      "text/plain": [
       "<matplotlib.collections.PathCollection at 0x2c11ab27b88>"
      ]
     },
     "execution_count": 226,
     "metadata": {},
     "output_type": "execute_result"
    },
    {
     "data": {
      "image/png": "[encoded data removed]",
      "text/plain": [
       "<Figure size 432x288 with 1 Axes>"
      ]
     },
     "metadata": {
      "needs_background": "light"
     },
     "output_type": "display_data"
    }
   ],
   "source": [
    "plt.scatter(full_data_6.x.values,a)"
   ]
  },
  {
   "cell_type": "code",
   "execution_count": 79,
   "metadata": {},
   "outputs": [
    {
     "data": {
      "text/plain": [
       "637"
      ]
     },
     "execution_count": 79,
     "metadata": {},
     "output_type": "execute_result"
    }
   ],
   "source": [
    "1280-643"
   ]
  },
  {
   "cell_type": "code",
   "execution_count": 87,
   "metadata": {},
   "outputs": [
    {
     "data": {
      "text/plain": [
       "2.009419152276295"
      ]
     },
     "execution_count": 87,
     "metadata": {},
     "output_type": "execute_result"
    }
   ],
   "source": [
    "1280/637"
   ]
  },
  {
   "cell_type": "code",
   "execution_count": 88,
   "metadata": {},
   "outputs": [
    {
     "data": {
      "text/plain": [
       "66.03649611554884"
      ]
     },
     "execution_count": 88,
     "metadata": {},
     "output_type": "execute_result"
    }
   ],
   "source": [
    "COV = np.array([-117.2192825,32.7060566])\n",
    "np.arccos(np.dot(RH_Point-CAM,COV-CAM)/np.linalg.norm(COV-CAM)/np.linalg.norm(RH_Point-CAM))*180/np.pi*2.009419152276295"
   ]
  },
  {
   "cell_type": "code",
   "execution_count": 104,
   "metadata": {},
   "outputs": [
    {
     "data": {
      "text/html": [
       "<div>\n",
       "<style scoped>\n",
       "    .dataframe tbody tr th:only-of-type {\n",
       "        vertical-align: middle;\n",
       "    }\n",
       "\n",
       "    .dataframe tbody tr th {\n",
       "        vertical-align: top;\n",
       "    }\n",
       "\n",
       "    .dataframe thead th {\n",
       "        text-align: right;\n",
       "    }\n",
       "</style>\n",
       "<table border=\"1\" class=\"dataframe\">\n",
       "  <thead>\n",
       "    <tr style=\"text-align: right;\">\n",
       "      <th></th>\n",
       "      <th>x</th>\n",
       "      <th>y</th>\n",
       "    </tr>\n",
       "  </thead>\n",
       "  <tbody>\n",
       "    <tr>\n",
       "      <th>0</th>\n",
       "      <td>0.708984</td>\n",
       "      <td>0.623611</td>\n",
       "    </tr>\n",
       "    <tr>\n",
       "      <th>1</th>\n",
       "      <td>0.709605</td>\n",
       "      <td>0.623518</td>\n",
       "    </tr>\n",
       "    <tr>\n",
       "      <th>2</th>\n",
       "      <td>0.710160</td>\n",
       "      <td>0.623410</td>\n",
       "    </tr>\n",
       "    <tr>\n",
       "      <th>3</th>\n",
       "      <td>0.711352</td>\n",
       "      <td>0.623406</td>\n",
       "    </tr>\n",
       "    <tr>\n",
       "      <th>4</th>\n",
       "      <td>0.711958</td>\n",
       "      <td>0.623357</td>\n",
       "    </tr>\n",
       "    <tr>\n",
       "      <th>...</th>\n",
       "      <td>...</td>\n",
       "      <td>...</td>\n",
       "    </tr>\n",
       "    <tr>\n",
       "      <th>3595</th>\n",
       "      <td>0.458686</td>\n",
       "      <td>0.630588</td>\n",
       "    </tr>\n",
       "    <tr>\n",
       "      <th>3596</th>\n",
       "      <td>0.458121</td>\n",
       "      <td>0.630517</td>\n",
       "    </tr>\n",
       "    <tr>\n",
       "      <th>3597</th>\n",
       "      <td>0.457580</td>\n",
       "      <td>0.630424</td>\n",
       "    </tr>\n",
       "    <tr>\n",
       "      <th>3598</th>\n",
       "      <td>0.457075</td>\n",
       "      <td>0.630458</td>\n",
       "    </tr>\n",
       "    <tr>\n",
       "      <th>3599</th>\n",
       "      <td>0.455971</td>\n",
       "      <td>0.630397</td>\n",
       "    </tr>\n",
       "  </tbody>\n",
       "</table>\n",
       "<p>3600 rows × 2 columns</p>\n",
       "</div>"
      ],
      "text/plain": [
       "             x         y\n",
       "0     0.708984  0.623611\n",
       "1     0.709605  0.623518\n",
       "2     0.710160  0.623410\n",
       "3     0.711352  0.623406\n",
       "4     0.711958  0.623357\n",
       "...        ...       ...\n",
       "3595  0.458686  0.630588\n",
       "3596  0.458121  0.630517\n",
       "3597  0.457580  0.630424\n",
       "3598  0.457075  0.630458\n",
       "3599  0.455971  0.630397\n",
       "\n",
       "[3600 rows x 2 columns]"
      ]
     },
     "execution_count": 104,
     "metadata": {},
     "output_type": "execute_result"
    }
   ],
   "source": [
    "full_data_6[['x','y']]/np.array([1280,720])"
   ]
  },
  {
   "cell_type": "code",
   "execution_count": 206,
   "metadata": {},
   "outputs": [],
   "source": [
    "model = keras.models.Sequential([\n",
    "    keras.layers.Dense(16, activation = 'linear'),\n",
    "    keras.layers.Dense(16, activation = 'linear'),\n",
    "    keras.layers.Dense(16, activation = 'linear'),\n",
    "    keras.layers.Dense(16, activation = 'linear'),\n",
    "    keras.layers.Dense(16, activation = 'linear'),\n",
    "    keras.layers.Dense(16, activation = 'linear'),\n",
    "    keras.layers.Dense(2, activation = 'linear')\n",
    "])\n",
    "model.compile(\n",
    "    optimizer=keras.optimizers.Adam(),\n",
    "    loss=keras.losses.MeanSquaredError(),\n",
    "    metrics=[keras.metrics.MeanSquaredError()],\n",
    ")\n"
   ]
  },
  {
   "cell_type": "code",
   "execution_count": 207,
   "metadata": {},
   "outputs": [],
   "source": [
    "maxes = np.array([max(full_data_6.lon_lin),max(full_data_6.lat_lin)])"
   ]
  },
  {
   "cell_type": "code",
   "execution_count": 212,
   "metadata": {},
   "outputs": [
    {
     "name": "stdout",
     "output_type": "stream",
     "text": [
      "Epoch 1/50\n",
      "375/375 [==============================] - 1s 2ms/step - loss: 0.0045 - mean_squared_error: 0.0045 - val_loss: 4.3255e-04 - val_mean_squared_error: 4.3255e-04\n",
      "Epoch 2/50\n",
      "375/375 [==============================] - 1s 2ms/step - loss: 1.2359e-04 - mean_squared_error: 1.2359e-04 - val_loss: 4.2599e-04 - val_mean_squared_error: 4.2599e-04\n",
      "Epoch 3/50\n",
      "375/375 [==============================] - 1s 2ms/step - loss: 1.2431e-04 - mean_squared_error: 1.2431e-04 - val_loss: 4.1176e-04 - val_mean_squared_error: 4.1176e-04\n",
      "Epoch 4/50\n",
      "375/375 [==============================] - 1s 2ms/step - loss: 1.2078e-04 - mean_squared_error: 1.2078e-04 - val_loss: 3.6795e-04 - val_mean_squared_error: 3.6795e-04\n",
      "Epoch 5/50\n",
      "375/375 [==============================] - 1s 2ms/step - loss: 1.2858e-04 - mean_squared_error: 1.2858e-04 - val_loss: 4.2737e-04 - val_mean_squared_error: 4.2737e-04\n",
      "Epoch 6/50\n",
      "375/375 [==============================] - 1s 2ms/step - loss: 1.3309e-04 - mean_squared_error: 1.3309e-04 - val_loss: 3.4447e-04 - val_mean_squared_error: 3.4447e-04\n",
      "Epoch 7/50\n",
      "375/375 [==============================] - 1s 2ms/step - loss: 1.3552e-04 - mean_squared_error: 1.3552e-04 - val_loss: 4.0520e-04 - val_mean_squared_error: 4.0520e-04\n",
      "Epoch 8/50\n",
      "375/375 [==============================] - 1s 2ms/step - loss: 1.3386e-04 - mean_squared_error: 1.3386e-04 - val_loss: 7.7680e-04 - val_mean_squared_error: 7.7680e-04\n",
      "Epoch 9/50\n",
      "375/375 [==============================] - 1s 2ms/step - loss: 1.3436e-04 - mean_squared_error: 1.3436e-04 - val_loss: 4.8728e-04 - val_mean_squared_error: 4.8728e-04\n",
      "Epoch 10/50\n",
      "375/375 [==============================] - 1s 2ms/step - loss: 1.3585e-04 - mean_squared_error: 1.3585e-04 - val_loss: 3.9977e-04 - val_mean_squared_error: 3.9977e-04\n",
      "Epoch 11/50\n",
      "375/375 [==============================] - 1s 2ms/step - loss: 1.3378e-04 - mean_squared_error: 1.3378e-04 - val_loss: 3.7732e-04 - val_mean_squared_error: 3.7732e-04\n",
      "Epoch 12/50\n",
      "375/375 [==============================] - 1s 2ms/step - loss: 1.5175e-04 - mean_squared_error: 1.5175e-04 - val_loss: 4.4511e-04 - val_mean_squared_error: 4.4511e-04\n",
      "Epoch 13/50\n",
      "375/375 [==============================] - 1s 2ms/step - loss: 1.4512e-04 - mean_squared_error: 1.4512e-04 - val_loss: 3.0182e-04 - val_mean_squared_error: 3.0182e-04\n",
      "Epoch 14/50\n",
      "375/375 [==============================] - 1s 2ms/step - loss: 1.3706e-04 - mean_squared_error: 1.3706e-04 - val_loss: 2.8633e-04 - val_mean_squared_error: 2.8633e-04\n",
      "Epoch 15/50\n",
      "375/375 [==============================] - 1s 2ms/step - loss: 1.5317e-04 - mean_squared_error: 1.5317e-04 - val_loss: 2.4340e-04 - val_mean_squared_error: 2.4340e-04\n",
      "Epoch 16/50\n",
      "375/375 [==============================] - 1s 2ms/step - loss: 1.4636e-04 - mean_squared_error: 1.4636e-04 - val_loss: 3.2746e-04 - val_mean_squared_error: 3.2746e-04\n",
      "Epoch 17/50\n",
      "375/375 [==============================] - 1s 2ms/step - loss: 1.5422e-04 - mean_squared_error: 1.5422e-04 - val_loss: 3.1527e-04 - val_mean_squared_error: 3.1527e-04\n",
      "Epoch 18/50\n",
      "375/375 [==============================] - 1s 2ms/step - loss: 1.3535e-04 - mean_squared_error: 1.3535e-04 - val_loss: 7.0339e-04 - val_mean_squared_error: 7.0339e-04\n",
      "Epoch 19/50\n",
      "375/375 [==============================] - 1s 2ms/step - loss: 1.4380e-04 - mean_squared_error: 1.4380e-04 - val_loss: 2.8928e-04 - val_mean_squared_error: 2.8928e-04\n",
      "Epoch 20/50\n",
      "375/375 [==============================] - 1s 2ms/step - loss: 1.4974e-04 - mean_squared_error: 1.4974e-04 - val_loss: 4.1414e-04 - val_mean_squared_error: 4.1414e-04\n",
      "Epoch 21/50\n",
      "375/375 [==============================] - 1s 2ms/step - loss: 1.4570e-04 - mean_squared_error: 1.4570e-04 - val_loss: 4.5050e-04 - val_mean_squared_error: 4.5050e-04\n",
      "Epoch 22/50\n",
      "375/375 [==============================] - 1s 2ms/step - loss: 1.5059e-04 - mean_squared_error: 1.5059e-04 - val_loss: 3.5021e-04 - val_mean_squared_error: 3.5021e-04\n",
      "Epoch 23/50\n",
      "375/375 [==============================] - 1s 2ms/step - loss: 1.5305e-04 - mean_squared_error: 1.5305e-04 - val_loss: 3.3410e-04 - val_mean_squared_error: 3.3410e-04\n",
      "Epoch 24/50\n",
      "375/375 [==============================] - 1s 2ms/step - loss: 1.4274e-04 - mean_squared_error: 1.4274e-04 - val_loss: 2.6073e-04 - val_mean_squared_error: 2.6073e-04\n",
      "Epoch 25/50\n",
      "375/375 [==============================] - 1s 2ms/step - loss: 1.5307e-04 - mean_squared_error: 1.5307e-04 - val_loss: 4.3127e-04 - val_mean_squared_error: 4.3127e-04\n",
      "Epoch 26/50\n",
      "375/375 [==============================] - 1s 2ms/step - loss: 1.5595e-04 - mean_squared_error: 1.5595e-04 - val_loss: 2.2351e-04 - val_mean_squared_error: 2.2351e-04\n",
      "Epoch 27/50\n",
      "375/375 [==============================] - 1s 2ms/step - loss: 1.4568e-04 - mean_squared_error: 1.4568e-04 - val_loss: 5.0996e-04 - val_mean_squared_error: 5.0996e-04\n",
      "Epoch 28/50\n",
      "375/375 [==============================] - 1s 2ms/step - loss: 1.3646e-04 - mean_squared_error: 1.3646e-04 - val_loss: 4.1606e-04 - val_mean_squared_error: 4.1606e-04\n",
      "Epoch 29/50\n",
      "375/375 [==============================] - 1s 2ms/step - loss: 1.4151e-04 - mean_squared_error: 1.4151e-04 - val_loss: 4.6112e-04 - val_mean_squared_error: 4.6112e-04\n",
      "Epoch 30/50\n",
      "375/375 [==============================] - 1s 2ms/step - loss: 1.4288e-04 - mean_squared_error: 1.4288e-04 - val_loss: 6.4050e-04 - val_mean_squared_error: 6.4050e-04\n",
      "Epoch 31/50\n",
      "375/375 [==============================] - 1s 2ms/step - loss: 1.4566e-04 - mean_squared_error: 1.4566e-04 - val_loss: 4.9085e-04 - val_mean_squared_error: 4.9085e-04\n",
      "Epoch 32/50\n",
      "375/375 [==============================] - 1s 2ms/step - loss: 1.5073e-04 - mean_squared_error: 1.5073e-04 - val_loss: 5.1143e-04 - val_mean_squared_error: 5.1143e-04\n",
      "Epoch 33/50\n",
      "375/375 [==============================] - 1s 2ms/step - loss: 1.4719e-04 - mean_squared_error: 1.4719e-04 - val_loss: 5.1825e-04 - val_mean_squared_error: 5.1825e-04\n",
      "Epoch 34/50\n",
      "375/375 [==============================] - 1s 2ms/step - loss: 1.5376e-04 - mean_squared_error: 1.5376e-04 - val_loss: 6.2718e-04 - val_mean_squared_error: 6.2718e-04\n",
      "Epoch 35/50\n",
      "375/375 [==============================] - 1s 2ms/step - loss: 1.4679e-04 - mean_squared_error: 1.4679e-04 - val_loss: 5.8936e-04 - val_mean_squared_error: 5.8936e-04\n",
      "Epoch 36/50\n",
      "375/375 [==============================] - 1s 2ms/step - loss: 1.5141e-04 - mean_squared_error: 1.5141e-04 - val_loss: 3.7723e-04 - val_mean_squared_error: 3.7723e-04\n",
      "Epoch 37/50\n",
      "375/375 [==============================] - 1s 2ms/step - loss: 1.3846e-04 - mean_squared_error: 1.3846e-04 - val_loss: 2.6284e-04 - val_mean_squared_error: 2.6284e-04\n",
      "Epoch 38/50\n",
      "375/375 [==============================] - 1s 2ms/step - loss: 1.4192e-04 - mean_squared_error: 1.4192e-04 - val_loss: 4.2456e-04 - val_mean_squared_error: 4.2456e-04\n",
      "Epoch 39/50\n",
      "375/375 [==============================] - 1s 2ms/step - loss: 1.4349e-04 - mean_squared_error: 1.4349e-04 - val_loss: 5.3284e-04 - val_mean_squared_error: 5.3284e-04\n",
      "Epoch 40/50\n",
      "375/375 [==============================] - 1s 2ms/step - loss: 1.3371e-04 - mean_squared_error: 1.3371e-04 - val_loss: 4.0317e-04 - val_mean_squared_error: 4.0317e-04\n",
      "Epoch 41/50\n",
      "375/375 [==============================] - 1s 2ms/step - loss: 1.3620e-04 - mean_squared_error: 1.3620e-04 - val_loss: 3.3224e-04 - val_mean_squared_error: 3.3224e-04\n",
      "Epoch 42/50\n",
      "375/375 [==============================] - 1s 2ms/step - loss: 1.5206e-04 - mean_squared_error: 1.5206e-04 - val_loss: 3.0824e-04 - val_mean_squared_error: 3.0824e-04\n",
      "Epoch 43/50\n",
      "375/375 [==============================] - 1s 2ms/step - loss: 1.2979e-04 - mean_squared_error: 1.2979e-04 - val_loss: 3.7687e-04 - val_mean_squared_error: 3.7687e-04\n",
      "Epoch 44/50\n",
      "375/375 [==============================] - 1s 2ms/step - loss: 1.4311e-04 - mean_squared_error: 1.4311e-04 - val_loss: 5.2790e-04 - val_mean_squared_error: 5.2790e-04\n",
      "Epoch 45/50\n",
      "375/375 [==============================] - 1s 2ms/step - loss: 1.3402e-04 - mean_squared_error: 1.3402e-04 - val_loss: 3.8797e-04 - val_mean_squared_error: 3.8797e-04\n",
      "Epoch 46/50\n",
      "375/375 [==============================] - 1s 2ms/step - loss: 1.3328e-04 - mean_squared_error: 1.3328e-04 - val_loss: 2.5390e-04 - val_mean_squared_error: 2.5390e-04\n"
     ]
    },
    {
     "name": "stdout",
     "output_type": "stream",
     "text": [
      "Epoch 47/50\n",
      "375/375 [==============================] - 1s 2ms/step - loss: 1.4276e-04 - mean_squared_error: 1.4276e-04 - val_loss: 5.4665e-04 - val_mean_squared_error: 5.4665e-04\n",
      "Epoch 48/50\n",
      "375/375 [==============================] - 1s 2ms/step - loss: 1.3209e-04 - mean_squared_error: 1.3209e-04 - val_loss: 2.7948e-04 - val_mean_squared_error: 2.7948e-04\n",
      "Epoch 49/50\n",
      "375/375 [==============================] - 1s 2ms/step - loss: 1.3109e-04 - mean_squared_error: 1.3109e-04 - val_loss: 4.0475e-04 - val_mean_squared_error: 4.0475e-04\n",
      "Epoch 50/50\n",
      "375/375 [==============================] - 1s 2ms/step - loss: 1.3341e-04 - mean_squared_error: 1.3341e-04 - val_loss: 6.9234e-04 - val_mean_squared_error: 6.9234e-04\n"
     ]
    },
    {
     "data": {
      "text/plain": [
       "<tensorflow.python.keras.callbacks.History at 0x2c11a6eeb48>"
      ]
     },
     "execution_count": 212,
     "metadata": {},
     "output_type": "execute_result"
    }
   ],
   "source": [
    "model.fit((full_data_6[['x','y']].values/np.array([1280,720]))[:3000],full_data_6[['R','angles']].values[:3000],#/maxes,\n",
    "          validation_data =(full_data_6[['x','y']].values[3000:]/np.array([1280,720]),full_data_6[['R','angles']].values[3000:]),#/maxes), \n",
    "         batch_size = 8,\n",
    "         epochs = 50,\n",
    "         verbose = 1)"
   ]
  },
  {
   "cell_type": "code",
   "execution_count": 213,
   "metadata": {},
   "outputs": [],
   "source": [
    "pred = model.predict(full_data_6[['x','y']].values[:]/np.array([1280,720]))"
   ]
  },
  {
   "cell_type": "code",
   "execution_count": 218,
   "metadata": {},
   "outputs": [],
   "source": [
    "data = full_data_6"
   ]
  },
  {
   "cell_type": "code",
   "execution_count": 223,
   "metadata": {},
   "outputs": [
    {
     "data": {
      "text/plain": [
       "[<matplotlib.lines.Line2D at 0x2c11aaa0b08>]"
      ]
     },
     "execution_count": 223,
     "metadata": {},
     "output_type": "execute_result"
    },
    {
     "data": {
      "image/png": "[encoded data removed]",
      "text/plain": [
       "<Figure size 432x288 with 1 Axes>"
      ]
     },
     "metadata": {
      "needs_background": "light"
     },
     "output_type": "display_data"
    }
   ],
   "source": [
    "plt.plot(data.x/1280,data.y/720)"
   ]
  },
  {
   "cell_type": "code",
   "execution_count": 211,
   "metadata": {},
   "outputs": [
    {
     "data": {
      "text/plain": [
       "<matplotlib.collections.PathCollection at 0x2c11a6e3108>"
      ]
     },
     "execution_count": 211,
     "metadata": {},
     "output_type": "execute_result"
    },
    {
     "data": {
      "image/png": "[encoded data removed]",
      "text/plain": [
       "<Figure size 432x288 with 1 Axes>"
      ]
     },
     "metadata": {
      "needs_background": "light"
     },
     "output_type": "display_data"
    }
   ],
   "source": [
    "plt.scatter(pred[:,0]*maxes[0],pred[:,1]*maxes[1])"
   ]
  },
  {
   "cell_type": "code",
   "execution_count": 184,
   "metadata": {},
   "outputs": [
    {
     "data": {
      "text/plain": [
       "[<matplotlib.lines.Line2D at 0x2c115d95e08>]"
      ]
     },
     "execution_count": 184,
     "metadata": {},
     "output_type": "execute_result"
    },
    {
     "data": {
      "image/png": "[encoded data removed]",
      "text/plain": [
       "<Figure size 432x288 with 1 Axes>"
      ]
     },
     "metadata": {
      "needs_background": "light"
     },
     "output_type": "display_data"
    }
   ],
   "source": [
    "plt.plot(full_data_6.lon_lin.values[:],full_data_6.lat_lin.values[:])"
   ]
  },
  {
   "cell_type": "code",
   "execution_count": null,
   "metadata": {},
   "outputs": [],
   "source": []
  }
 ],
 "metadata": {
  "kernelspec": {
   "display_name": "tf",
   "language": "python",
   "name": "tf"
  },
  "language_info": {
   "codemirror_mode": {
    "name": "ipython",
    "version": 3
   },
   "file_extension": ".py",
   "mimetype": "text/x-python",
   "name": "python",
   "nbconvert_exporter": "python",
   "pygments_lexer": "ipython3",
   "version": "3.7.7"
  }
 },
 "nbformat": 4,
 "nbformat_minor": 4
}
