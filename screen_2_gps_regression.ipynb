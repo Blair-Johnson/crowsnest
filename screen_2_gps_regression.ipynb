{
 "cells": [
  {
   "cell_type": "code",
   "execution_count": 1,
   "metadata": {},
   "outputs": [],
   "source": [
    "import numpy as np\n",
    "import matplotlib.pyplot as plt\n",
    "import pandas as pd\n",
    "import tensorflow as tf\n",
    "import tensorflow.keras as keras"
   ]
  },
  {
   "cell_type": "code",
   "execution_count": 7,
   "metadata": {},
   "outputs": [],
   "source": [
    "data = pd.read_csv('./cleaned_gps/6/interpolated_6_final.csv')\n",
    "screen_coords = pd.read_csv('./screenspace_coords/6_xy.csv', names = ['x','y'])"
   ]
  },
  {
   "cell_type": "code",
   "execution_count": 23,
   "metadata": {},
   "outputs": [],
   "source": [
    "RH_Point = np.array([-117.2244901, 32.6990683])\n",
    "CAM = np.array([-117.2344652, 32.7029769])\n",
    "RHS = (RH_Point-CAM)/np.linalg.norm(RH_Point-CAM)"
   ]
  },
  {
   "cell_type": "code",
   "execution_count": 31,
   "metadata": {},
   "outputs": [],
   "source": [
    "RHS_Ang = np.arctan2(RHS[1],RHS[0])"
   ]
  },
  {
   "cell_type": "code",
   "execution_count": 58,
   "metadata": {},
   "outputs": [],
   "source": [
    "angles = np.arctan2(full_data_6.lat_lin.values,full_data_6.lon_lin.values)"
   ]
  },
  {
   "cell_type": "code",
   "execution_count": 63,
   "metadata": {},
   "outputs": [],
   "source": [
    "full_data_6['angles'] = angles"
   ]
  },
  {
   "cell_type": "code",
   "execution_count": 98,
   "metadata": {},
   "outputs": [
    {
     "data": {
      "text/html": [
       "<div>\n",
       "<style scoped>\n",
       "    .dataframe tbody tr th:only-of-type {\n",
       "        vertical-align: middle;\n",
       "    }\n",
       "\n",
       "    .dataframe tbody tr th {\n",
       "        vertical-align: top;\n",
       "    }\n",
       "\n",
       "    .dataframe thead th {\n",
       "        text-align: right;\n",
       "    }\n",
       "</style>\n",
       "<table border=\"1\" class=\"dataframe\">\n",
       "  <thead>\n",
       "    <tr style=\"text-align: right;\">\n",
       "      <th></th>\n",
       "      <th>Frame No.</th>\n",
       "      <th>UTC Timestamp</th>\n",
       "      <th>estimated_time</th>\n",
       "      <th>boat_lat_rel</th>\n",
       "      <th>boat_lon_rel</th>\n",
       "      <th>time</th>\n",
       "      <th>lat_lin</th>\n",
       "      <th>lon_lin</th>\n",
       "      <th>x</th>\n",
       "      <th>y</th>\n",
       "      <th>R</th>\n",
       "      <th>angles</th>\n",
       "    </tr>\n",
       "  </thead>\n",
       "  <tbody>\n",
       "    <tr>\n",
       "      <th>0</th>\n",
       "      <td>0</td>\n",
       "      <td>19:33:54</td>\n",
       "      <td>19:33:58.36</td>\n",
       "      <td>NaN</td>\n",
       "      <td>NaN</td>\n",
       "      <td>0.00</td>\n",
       "      <td>-0.000087</td>\n",
       "      <td>0.001176</td>\n",
       "      <td>907.5000</td>\n",
       "      <td>449.000</td>\n",
       "      <td>0.001179</td>\n",
       "      <td>-0.074127</td>\n",
       "    </tr>\n",
       "    <tr>\n",
       "      <th>1</th>\n",
       "      <td>1</td>\n",
       "      <td>19:33:54</td>\n",
       "      <td>19:33:58.4</td>\n",
       "      <td>NaN</td>\n",
       "      <td>NaN</td>\n",
       "      <td>0.04</td>\n",
       "      <td>-0.000087</td>\n",
       "      <td>0.001176</td>\n",
       "      <td>908.2945</td>\n",
       "      <td>448.933</td>\n",
       "      <td>0.001179</td>\n",
       "      <td>-0.074127</td>\n",
       "    </tr>\n",
       "    <tr>\n",
       "      <th>2</th>\n",
       "      <td>2</td>\n",
       "      <td>19:33:54</td>\n",
       "      <td>19:33:58.44</td>\n",
       "      <td>NaN</td>\n",
       "      <td>NaN</td>\n",
       "      <td>0.08</td>\n",
       "      <td>-0.000087</td>\n",
       "      <td>0.001176</td>\n",
       "      <td>909.0050</td>\n",
       "      <td>448.855</td>\n",
       "      <td>0.001179</td>\n",
       "      <td>-0.074127</td>\n",
       "    </tr>\n",
       "    <tr>\n",
       "      <th>3</th>\n",
       "      <td>3</td>\n",
       "      <td>19:33:54</td>\n",
       "      <td>19:33:58.48</td>\n",
       "      <td>NaN</td>\n",
       "      <td>NaN</td>\n",
       "      <td>0.12</td>\n",
       "      <td>-0.000087</td>\n",
       "      <td>0.001176</td>\n",
       "      <td>910.5300</td>\n",
       "      <td>448.852</td>\n",
       "      <td>0.001179</td>\n",
       "      <td>-0.074127</td>\n",
       "    </tr>\n",
       "    <tr>\n",
       "      <th>4</th>\n",
       "      <td>4</td>\n",
       "      <td>19:33:54</td>\n",
       "      <td>19:33:58.52</td>\n",
       "      <td>NaN</td>\n",
       "      <td>NaN</td>\n",
       "      <td>0.16</td>\n",
       "      <td>-0.000087</td>\n",
       "      <td>0.001176</td>\n",
       "      <td>911.3060</td>\n",
       "      <td>448.817</td>\n",
       "      <td>0.001179</td>\n",
       "      <td>-0.074127</td>\n",
       "    </tr>\n",
       "    <tr>\n",
       "      <th>...</th>\n",
       "      <td>...</td>\n",
       "      <td>...</td>\n",
       "      <td>...</td>\n",
       "      <td>...</td>\n",
       "      <td>...</td>\n",
       "      <td>...</td>\n",
       "      <td>...</td>\n",
       "      <td>...</td>\n",
       "      <td>...</td>\n",
       "      <td>...</td>\n",
       "      <td>...</td>\n",
       "      <td>...</td>\n",
       "    </tr>\n",
       "    <tr>\n",
       "      <th>3595</th>\n",
       "      <td>3595</td>\n",
       "      <td>19:36:24</td>\n",
       "      <td>19:36:27.16</td>\n",
       "      <td>NaN</td>\n",
       "      <td>NaN</td>\n",
       "      <td>143.80</td>\n",
       "      <td>0.000188</td>\n",
       "      <td>0.000955</td>\n",
       "      <td>587.1185</td>\n",
       "      <td>454.023</td>\n",
       "      <td>0.000973</td>\n",
       "      <td>0.194575</td>\n",
       "    </tr>\n",
       "    <tr>\n",
       "      <th>3596</th>\n",
       "      <td>3596</td>\n",
       "      <td>19:36:24</td>\n",
       "      <td>19:36:27.2</td>\n",
       "      <td>NaN</td>\n",
       "      <td>NaN</td>\n",
       "      <td>143.84</td>\n",
       "      <td>0.000188</td>\n",
       "      <td>0.000955</td>\n",
       "      <td>586.3945</td>\n",
       "      <td>453.972</td>\n",
       "      <td>0.000973</td>\n",
       "      <td>0.194575</td>\n",
       "    </tr>\n",
       "    <tr>\n",
       "      <th>3597</th>\n",
       "      <td>3597</td>\n",
       "      <td>19:36:24</td>\n",
       "      <td>19:36:27.24</td>\n",
       "      <td>NaN</td>\n",
       "      <td>NaN</td>\n",
       "      <td>143.88</td>\n",
       "      <td>0.000188</td>\n",
       "      <td>0.000955</td>\n",
       "      <td>585.7030</td>\n",
       "      <td>453.905</td>\n",
       "      <td>0.000973</td>\n",
       "      <td>0.194575</td>\n",
       "    </tr>\n",
       "    <tr>\n",
       "      <th>3598</th>\n",
       "      <td>3598</td>\n",
       "      <td>19:36:24</td>\n",
       "      <td>19:36:27.28</td>\n",
       "      <td>NaN</td>\n",
       "      <td>NaN</td>\n",
       "      <td>143.92</td>\n",
       "      <td>0.000188</td>\n",
       "      <td>0.000955</td>\n",
       "      <td>585.0565</td>\n",
       "      <td>453.930</td>\n",
       "      <td>0.000973</td>\n",
       "      <td>0.194575</td>\n",
       "    </tr>\n",
       "    <tr>\n",
       "      <th>3599</th>\n",
       "      <td>3599</td>\n",
       "      <td>19:36:24</td>\n",
       "      <td>19:36:27.32</td>\n",
       "      <td>NaN</td>\n",
       "      <td>NaN</td>\n",
       "      <td>143.96</td>\n",
       "      <td>0.000188</td>\n",
       "      <td>0.000955</td>\n",
       "      <td>583.6425</td>\n",
       "      <td>453.886</td>\n",
       "      <td>0.000973</td>\n",
       "      <td>0.194575</td>\n",
       "    </tr>\n",
       "  </tbody>\n",
       "</table>\n",
       "<p>3600 rows × 12 columns</p>\n",
       "</div>"
      ],
      "text/plain": [
       "      Frame No. UTC Timestamp estimated_time  boat_lat_rel  boat_lon_rel  \\\n",
       "0             0      19:33:54    19:33:58.36           NaN           NaN   \n",
       "1             1      19:33:54     19:33:58.4           NaN           NaN   \n",
       "2             2      19:33:54    19:33:58.44           NaN           NaN   \n",
       "3             3      19:33:54    19:33:58.48           NaN           NaN   \n",
       "4             4      19:33:54    19:33:58.52           NaN           NaN   \n",
       "...         ...           ...            ...           ...           ...   \n",
       "3595       3595      19:36:24    19:36:27.16           NaN           NaN   \n",
       "3596       3596      19:36:24     19:36:27.2           NaN           NaN   \n",
       "3597       3597      19:36:24    19:36:27.24           NaN           NaN   \n",
       "3598       3598      19:36:24    19:36:27.28           NaN           NaN   \n",
       "3599       3599      19:36:24    19:36:27.32           NaN           NaN   \n",
       "\n",
       "        time   lat_lin   lon_lin         x        y         R    angles  \n",
       "0       0.00 -0.000087  0.001176  907.5000  449.000  0.001179 -0.074127  \n",
       "1       0.04 -0.000087  0.001176  908.2945  448.933  0.001179 -0.074127  \n",
       "2       0.08 -0.000087  0.001176  909.0050  448.855  0.001179 -0.074127  \n",
       "3       0.12 -0.000087  0.001176  910.5300  448.852  0.001179 -0.074127  \n",
       "4       0.16 -0.000087  0.001176  911.3060  448.817  0.001179 -0.074127  \n",
       "...      ...       ...       ...       ...      ...       ...       ...  \n",
       "3595  143.80  0.000188  0.000955  587.1185  454.023  0.000973  0.194575  \n",
       "3596  143.84  0.000188  0.000955  586.3945  453.972  0.000973  0.194575  \n",
       "3597  143.88  0.000188  0.000955  585.7030  453.905  0.000973  0.194575  \n",
       "3598  143.92  0.000188  0.000955  585.0565  453.930  0.000973  0.194575  \n",
       "3599  143.96  0.000188  0.000955  583.6425  453.886  0.000973  0.194575  \n",
       "\n",
       "[3600 rows x 12 columns]"
      ]
     },
     "execution_count": 98,
     "metadata": {},
     "output_type": "execute_result"
    }
   ],
   "source": [
    "full_data_6"
   ]
  },
  {
   "cell_type": "code",
   "execution_count": 230,
   "metadata": {},
   "outputs": [],
   "source": [
    "a = (full_data_6.angles.values-RHS_Ang) / (np.sin((1280-full_data_6.x.values)/1280)*np.pi)"
   ]
  },
  {
   "cell_type": "code",
   "execution_count": 231,
   "metadata": {},
   "outputs": [
    {
     "data": {
      "text/plain": [
       "[<matplotlib.lines.Line2D at 0x2c11ac337c8>]"
      ]
     },
     "execution_count": 231,
     "metadata": {},
     "output_type": "execute_result"
    },
    {
     "data": {
      "image/png": "[encoded data removed]",
      "text/plain": [
       "<Figure size 432x288 with 1 Axes>"
      ]
     },
     "metadata": {
      "needs_background": "light"
     },
     "output_type": "display_data"
    }
   ],
   "source": [
    "plt.plot(a)"
   ]
  },
  {
   "cell_type": "code",
   "execution_count": 236,
   "metadata": {},
   "outputs": [],
   "source": [
    "rel_ang = full_data_6.angles.values-RHS_Ang"
   ]
  },
  {
   "cell_type": "code",
   "execution_count": 237,
   "metadata": {},
   "outputs": [],
   "source": [
    "pred_ang = np.mean(a)*np.sin((1280-data.x.values)/1280*np.pi)"
   ]
  },
  {
   "cell_type": "code",
   "execution_count": 239,
   "metadata": {},
   "outputs": [
    {
     "data": {
      "text/plain": [
       "0.08149611326351744"
      ]
     },
     "execution_count": 239,
     "metadata": {},
     "output_type": "execute_result"
    }
   ],
   "source": [
    "((rel_ang-pred_ang)**2).mean()"
   ]
  },
  {
   "cell_type": "code",
   "execution_count": 96,
   "metadata": {},
   "outputs": [
    {
     "data": {
      "text/plain": [
       "71.56739645393593"
      ]
     },
     "execution_count": 96,
     "metadata": {},
     "output_type": "execute_result"
    }
   ],
   "source": [
    "np.mean(a)*180/np.pi"
   ]
  },
  {
   "cell_type": "code",
   "execution_count": 93,
   "metadata": {},
   "outputs": [
    {
     "data": {
      "text/plain": [
       "68.75493541569878"
      ]
     },
     "execution_count": 93,
     "metadata": {},
     "output_type": "execute_result"
    }
   ],
   "source": [
    "1.2*180/np.pi"
   ]
  },
  {
   "cell_type": "code",
   "execution_count": 226,
   "metadata": {},
   "outputs": [
    {
     "data": {
      "text/plain": [
       "<matplotlib.collections.PathCollection at 0x2c11ab27b88>"
      ]
     },
     "execution_count": 226,
     "metadata": {},
     "output_type": "execute_result"
    },
    {
     "data": {
      "image/png": "[encoded data removed]",
      "text/plain": [
       "<Figure size 432x288 with 1 Axes>"
      ]
     },
     "metadata": {
      "needs_background": "light"
     },
     "output_type": "display_data"
    }
   ],
   "source": [
    "plt.scatter(full_data_6.x.values,a)"
   ]
  },
  {
   "cell_type": "code",
   "execution_count": 79,
   "metadata": {},
   "outputs": [
    {
     "data": {
      "text/plain": [
       "637"
      ]
     },
     "execution_count": 79,
     "metadata": {},
     "output_type": "execute_result"
    }
   ],
   "source": [
    "1280-643"
   ]
  },
  {
   "cell_type": "code",
   "execution_count": 87,
   "metadata": {},
   "outputs": [
    {
     "data": {
      "text/plain": [
       "2.009419152276295"
      ]
     },
     "execution_count": 87,
     "metadata": {},
     "output_type": "execute_result"
    }
   ],
   "source": [
    "1280/637"
   ]
  },
  {
   "cell_type": "code",
   "execution_count": 88,
   "metadata": {},
   "outputs": [
    {
     "data": {
      "text/plain": [
       "66.03649611554884"
      ]
     },
     "execution_count": 88,
     "metadata": {},
     "output_type": "execute_result"
    }
   ],
   "source": [
    "COV = np.array([-117.2192825,32.7060566])\n",
    "np.arccos(np.dot(RH_Point-CAM,COV-CAM)/np.linalg.norm(COV-CAM)/np.linalg.norm(RH_Point-CAM))*180/np.pi*2.009419152276295"
   ]
  },
  {
   "cell_type": "code",
   "execution_count": 104,
   "metadata": {},
   "outputs": [
    {
     "data": {
      "text/html": [
       "<div>\n",
       "<style scoped>\n",
       "    .dataframe tbody tr th:only-of-type {\n",
       "        vertical-align: middle;\n",
       "    }\n",
       "\n",
       "    .dataframe tbody tr th {\n",
       "        vertical-align: top;\n",
       "    }\n",
       "\n",
       "    .dataframe thead th {\n",
       "        text-align: right;\n",
       "    }\n",
       "</style>\n",
       "<table border=\"1\" class=\"dataframe\">\n",
       "  <thead>\n",
       "    <tr style=\"text-align: right;\">\n",
       "      <th></th>\n",
       "      <th>x</th>\n",
       "      <th>y</th>\n",
       "    </tr>\n",
       "  </thead>\n",
       "  <tbody>\n",
       "    <tr>\n",
       "      <th>0</th>\n",
       "      <td>0.708984</td>\n",
       "      <td>0.623611</td>\n",
       "    </tr>\n",
       "    <tr>\n",
       "      <th>1</th>\n",
       "      <td>0.709605</td>\n",
       "      <td>0.623518</td>\n",
       "    </tr>\n",
       "    <tr>\n",
       "      <th>2</th>\n",
       "      <td>0.710160</td>\n",
       "      <td>0.623410</td>\n",
       "    </tr>\n",
       "    <tr>\n",
       "      <th>3</th>\n",
       "      <td>0.711352</td>\n",
       "      <td>0.623406</td>\n",
       "    </tr>\n",
       "    <tr>\n",
       "      <th>4</th>\n",
       "      <td>0.711958</td>\n",
       "      <td>0.623357</td>\n",
       "    </tr>\n",
       "    <tr>\n",
       "      <th>...</th>\n",
       "      <td>...</td>\n",
       "      <td>...</td>\n",
       "    </tr>\n",
       "    <tr>\n",
       "      <th>3595</th>\n",
       "      <td>0.458686</td>\n",
       "      <td>0.630588</td>\n",
       "    </tr>\n",
       "    <tr>\n",
       "      <th>3596</th>\n",
       "      <td>0.458121</td>\n",
       "      <td>0.630517</td>\n",
       "    </tr>\n",
       "    <tr>\n",
       "      <th>3597</th>\n",
       "      <td>0.457580</td>\n",
       "      <td>0.630424</td>\n",
       "    </tr>\n",
       "    <tr>\n",
       "      <th>3598</th>\n",
       "      <td>0.457075</td>\n",
       "      <td>0.630458</td>\n",
       "    </tr>\n",
       "    <tr>\n",
       "      <th>3599</th>\n",
       "      <td>0.455971</td>\n",
       "      <td>0.630397</td>\n",
       "    </tr>\n",
       "  </tbody>\n",
       "</table>\n",
       "<p>3600 rows × 2 columns</p>\n",
       "</div>"
      ],
      "text/plain": [
       "             x         y\n",
       "0     0.708984  0.623611\n",
       "1     0.709605  0.623518\n",
       "2     0.710160  0.623410\n",
       "3     0.711352  0.623406\n",
       "4     0.711958  0.623357\n",
       "...        ...       ...\n",
       "3595  0.458686  0.630588\n",
       "3596  0.458121  0.630517\n",
       "3597  0.457580  0.630424\n",
       "3598  0.457075  0.630458\n",
       "3599  0.455971  0.630397\n",
       "\n",
       "[3600 rows x 2 columns]"
      ]
     },
     "execution_count": 104,
     "metadata": {},
     "output_type": "execute_result"
    }
   ],
   "source": [
    "full_data_6[['x','y']]/np.array([1280,720])"
   ]
  },
  {
   "cell_type": "code",
   "execution_count": 206,
   "metadata": {},
   "outputs": [],
   "source": [
    "model = keras.models.Sequential([\n",
    "    keras.layers.Dense(16, activation = 'linear'),\n",
    "    keras.layers.Dense(16, activation = 'linear'),\n",
    "    keras.layers.Dense(16, activation = 'linear'),\n",
    "    keras.layers.Dense(16, activation = 'linear'),\n",
    "    keras.layers.Dense(16, activation = 'linear'),\n",
    "    keras.layers.Dense(16, activation = 'linear'),\n",
    "    keras.layers.Dense(2, activation = 'linear')\n",
    "])\n",
    "model.compile(\n",
    "    optimizer=keras.optimizers.Adam(),\n",
    "    loss=keras.losses.MeanSquaredError(),\n",
    "    metrics=[keras.metrics.MeanSquaredError()],\n",
    ")\n"
   ]
  },
  {
   "cell_type": "code",
   "execution_count": 207,
   "metadata": {},
   "outputs": [],
   "source": [
    "maxes = np.array([max(full_data_6.lon_lin),max(full_data_6.lat_lin)])"
   ]
  },
  {
   "cell_type": "code",
   "execution_count": 212,
   "metadata": {},
   "outputs": [
    {
     "name": "stdout",
     "output_type": "stream",
     "text": [
      "Epoch 1/50\n",
      "375/375 [==============================] - 1s 2ms/step - loss: 0.0045 - mean_squared_error: 0.0045 - val_loss: 4.3255e-04 - val_mean_squared_error: 4.3255e-04\n",
      "Epoch 2/50\n",
      "375/375 [==============================] - 1s 2ms/step - loss: 1.2359e-04 - mean_squared_error: 1.2359e-04 - val_loss: 4.2599e-04 - val_mean_squared_error: 4.2599e-04\n",
      "Epoch 3/50\n",
      "375/375 [==============================] - 1s 2ms/step - loss: 1.2431e-04 - mean_squared_error: 1.2431e-04 - val_loss: 4.1176e-04 - val_mean_squared_error: 4.1176e-04\n",
      "Epoch 4/50\n",
      "375/375 [==============================] - 1s 2ms/step - loss: 1.2078e-04 - mean_squared_error: 1.2078e-04 - val_loss: 3.6795e-04 - val_mean_squared_error: 3.6795e-04\n",
      "Epoch 5/50\n",
      "375/375 [==============================] - 1s 2ms/step - loss: 1.2858e-04 - mean_squared_error: 1.2858e-04 - val_loss: 4.2737e-04 - val_mean_squared_error: 4.2737e-04\n",
      "Epoch 6/50\n",
      "375/375 [==============================] - 1s 2ms/step - loss: 1.3309e-04 - mean_squared_error: 1.3309e-04 - val_loss: 3.4447e-04 - val_mean_squared_error: 3.4447e-04\n",
      "Epoch 7/50\n",
      "375/375 [==============================] - 1s 2ms/step - loss: 1.3552e-04 - mean_squared_error: 1.3552e-04 - val_loss: 4.0520e-04 - val_mean_squared_error: 4.0520e-04\n",
      "Epoch 8/50\n",
      "375/375 [==============================] - 1s 2ms/step - loss: 1.3386e-04 - mean_squared_error: 1.3386e-04 - val_loss: 7.7680e-04 - val_mean_squared_error: 7.7680e-04\n",
      "Epoch 9/50\n",
      "375/375 [==============================] - 1s 2ms/step - loss: 1.3436e-04 - mean_squared_error: 1.3436e-04 - val_loss: 4.8728e-04 - val_mean_squared_error: 4.8728e-04\n",
      "Epoch 10/50\n",
      "375/375 [==============================] - 1s 2ms/step - loss: 1.3585e-04 - mean_squared_error: 1.3585e-04 - val_loss: 3.9977e-04 - val_mean_squared_error: 3.9977e-04\n",
      "Epoch 11/50\n",
      "375/375 [==============================] - 1s 2ms/step - loss: 1.3378e-04 - mean_squared_error: 1.3378e-04 - val_loss: 3.7732e-04 - val_mean_squared_error: 3.7732e-04\n",
      "Epoch 12/50\n",
      "375/375 [==============================] - 1s 2ms/step - loss: 1.5175e-04 - mean_squared_error: 1.5175e-04 - val_loss: 4.4511e-04 - val_mean_squared_error: 4.4511e-04\n",
      "Epoch 13/50\n",
      "375/375 [==============================] - 1s 2ms/step - loss: 1.4512e-04 - mean_squared_error: 1.4512e-04 - val_loss: 3.0182e-04 - val_mean_squared_error: 3.0182e-04\n",
      "Epoch 14/50\n",
      "375/375 [==============================] - 1s 2ms/step - loss: 1.3706e-04 - mean_squared_error: 1.3706e-04 - val_loss: 2.8633e-04 - val_mean_squared_error: 2.8633e-04\n",
      "Epoch 15/50\n",
      "375/375 [==============================] - 1s 2ms/step - loss: 1.5317e-04 - mean_squared_error: 1.5317e-04 - val_loss: 2.4340e-04 - val_mean_squared_error: 2.4340e-04\n",
      "Epoch 16/50\n",
      "375/375 [==============================] - 1s 2ms/step - loss: 1.4636e-04 - mean_squared_error: 1.4636e-04 - val_loss: 3.2746e-04 - val_mean_squared_error: 3.2746e-04\n",
      "Epoch 17/50\n",
      "375/375 [==============================] - 1s 2ms/step - loss: 1.5422e-04 - mean_squared_error: 1.5422e-04 - val_loss: 3.1527e-04 - val_mean_squared_error: 3.1527e-04\n",
      "Epoch 18/50\n",
      "375/375 [==============================] - 1s 2ms/step - loss: 1.3535e-04 - mean_squared_error: 1.3535e-04 - val_loss: 7.0339e-04 - val_mean_squared_error: 7.0339e-04\n",
      "Epoch 19/50\n",
      "375/375 [==============================] - 1s 2ms/step - loss: 1.4380e-04 - mean_squared_error: 1.4380e-04 - val_loss: 2.8928e-04 - val_mean_squared_error: 2.8928e-04\n",
      "Epoch 20/50\n",
      "375/375 [==============================] - 1s 2ms/step - loss: 1.4974e-04 - mean_squared_error: 1.4974e-04 - val_loss: 4.1414e-04 - val_mean_squared_error: 4.1414e-04\n",
      "Epoch 21/50\n",
      "375/375 [==============================] - 1s 2ms/step - loss: 1.4570e-04 - mean_squared_error: 1.4570e-04 - val_loss: 4.5050e-04 - val_mean_squared_error: 4.5050e-04\n",
      "Epoch 22/50\n",
      "375/375 [==============================] - 1s 2ms/step - loss: 1.5059e-04 - mean_squared_error: 1.5059e-04 - val_loss: 3.5021e-04 - val_mean_squared_error: 3.5021e-04\n",
      "Epoch 23/50\n",
      "375/375 [==============================] - 1s 2ms/step - loss: 1.5305e-04 - mean_squared_error: 1.5305e-04 - val_loss: 3.3410e-04 - val_mean_squared_error: 3.3410e-04\n",
      "Epoch 24/50\n",
      "375/375 [==============================] - 1s 2ms/step - loss: 1.4274e-04 - mean_squared_error: 1.4274e-04 - val_loss: 2.6073e-04 - val_mean_squared_error: 2.6073e-04\n",
      "Epoch 25/50\n",
      "375/375 [==============================] - 1s 2ms/step - loss: 1.5307e-04 - mean_squared_error: 1.5307e-04 - val_loss: 4.3127e-04 - val_mean_squared_error: 4.3127e-04\n",
      "Epoch 26/50\n",
      "375/375 [==============================] - 1s 2ms/step - loss: 1.5595e-04 - mean_squared_error: 1.5595e-04 - val_loss: 2.2351e-04 - val_mean_squared_error: 2.2351e-04\n",
      "Epoch 27/50\n",
      "375/375 [==============================] - 1s 2ms/step - loss: 1.4568e-04 - mean_squared_error: 1.4568e-04 - val_loss: 5.0996e-04 - val_mean_squared_error: 5.0996e-04\n",
      "Epoch 28/50\n",
      "375/375 [==============================] - 1s 2ms/step - loss: 1.3646e-04 - mean_squared_error: 1.3646e-04 - val_loss: 4.1606e-04 - val_mean_squared_error: 4.1606e-04\n",
      "Epoch 29/50\n",
      "375/375 [==============================] - 1s 2ms/step - loss: 1.4151e-04 - mean_squared_error: 1.4151e-04 - val_loss: 4.6112e-04 - val_mean_squared_error: 4.6112e-04\n",
      "Epoch 30/50\n",
      "375/375 [==============================] - 1s 2ms/step - loss: 1.4288e-04 - mean_squared_error: 1.4288e-04 - val_loss: 6.4050e-04 - val_mean_squared_error: 6.4050e-04\n",
      "Epoch 31/50\n",
      "375/375 [==============================] - 1s 2ms/step - loss: 1.4566e-04 - mean_squared_error: 1.4566e-04 - val_loss: 4.9085e-04 - val_mean_squared_error: 4.9085e-04\n",
      "Epoch 32/50\n",
      "375/375 [==============================] - 1s 2ms/step - loss: 1.5073e-04 - mean_squared_error: 1.5073e-04 - val_loss: 5.1143e-04 - val_mean_squared_error: 5.1143e-04\n",
      "Epoch 33/50\n",
      "375/375 [==============================] - 1s 2ms/step - loss: 1.4719e-04 - mean_squared_error: 1.4719e-04 - val_loss: 5.1825e-04 - val_mean_squared_error: 5.1825e-04\n",
      "Epoch 34/50\n",
      "375/375 [==============================] - 1s 2ms/step - loss: 1.5376e-04 - mean_squared_error: 1.5376e-04 - val_loss: 6.2718e-04 - val_mean_squared_error: 6.2718e-04\n",
      "Epoch 35/50\n",
      "375/375 [==============================] - 1s 2ms/step - loss: 1.4679e-04 - mean_squared_error: 1.4679e-04 - val_loss: 5.8936e-04 - val_mean_squared_error: 5.8936e-04\n",
      "Epoch 36/50\n",
      "375/375 [==============================] - 1s 2ms/step - loss: 1.5141e-04 - mean_squared_error: 1.5141e-04 - val_loss: 3.7723e-04 - val_mean_squared_error: 3.7723e-04\n",
      "Epoch 37/50\n",
      "375/375 [==============================] - 1s 2ms/step - loss: 1.3846e-04 - mean_squared_error: 1.3846e-04 - val_loss: 2.6284e-04 - val_mean_squared_error: 2.6284e-04\n",
      "Epoch 38/50\n",
      "375/375 [==============================] - 1s 2ms/step - loss: 1.4192e-04 - mean_squared_error: 1.4192e-04 - val_loss: 4.2456e-04 - val_mean_squared_error: 4.2456e-04\n",
      "Epoch 39/50\n",
      "375/375 [==============================] - 1s 2ms/step - loss: 1.4349e-04 - mean_squared_error: 1.4349e-04 - val_loss: 5.3284e-04 - val_mean_squared_error: 5.3284e-04\n",
      "Epoch 40/50\n",
      "375/375 [==============================] - 1s 2ms/step - loss: 1.3371e-04 - mean_squared_error: 1.3371e-04 - val_loss: 4.0317e-04 - val_mean_squared_error: 4.0317e-04\n",
      "Epoch 41/50\n",
      "375/375 [==============================] - 1s 2ms/step - loss: 1.3620e-04 - mean_squared_error: 1.3620e-04 - val_loss: 3.3224e-04 - val_mean_squared_error: 3.3224e-04\n",
      "Epoch 42/50\n",
      "375/375 [==============================] - 1s 2ms/step - loss: 1.5206e-04 - mean_squared_error: 1.5206e-04 - val_loss: 3.0824e-04 - val_mean_squared_error: 3.0824e-04\n",
      "Epoch 43/50\n",
      "375/375 [==============================] - 1s 2ms/step - loss: 1.2979e-04 - mean_squared_error: 1.2979e-04 - val_loss: 3.7687e-04 - val_mean_squared_error: 3.7687e-04\n",
      "Epoch 44/50\n",
      "375/375 [==============================] - 1s 2ms/step - loss: 1.4311e-04 - mean_squared_error: 1.4311e-04 - val_loss: 5.2790e-04 - val_mean_squared_error: 5.2790e-04\n",
      "Epoch 45/50\n",
      "375/375 [==============================] - 1s 2ms/step - loss: 1.3402e-04 - mean_squared_error: 1.3402e-04 - val_loss: 3.8797e-04 - val_mean_squared_error: 3.8797e-04\n",
      "Epoch 46/50\n",
      "375/375 [==============================] - 1s 2ms/step - loss: 1.3328e-04 - mean_squared_error: 1.3328e-04 - val_loss: 2.5390e-04 - val_mean_squared_error: 2.5390e-04\n"
     ]
    },
    {
     "name": "stdout",
     "output_type": "stream",
     "text": [
      "Epoch 47/50\n",
      "375/375 [==============================] - 1s 2ms/step - loss: 1.4276e-04 - mean_squared_error: 1.4276e-04 - val_loss: 5.4665e-04 - val_mean_squared_error: 5.4665e-04\n",
      "Epoch 48/50\n",
      "375/375 [==============================] - 1s 2ms/step - loss: 1.3209e-04 - mean_squared_error: 1.3209e-04 - val_loss: 2.7948e-04 - val_mean_squared_error: 2.7948e-04\n",
      "Epoch 49/50\n",
      "375/375 [==============================] - 1s 2ms/step - loss: 1.3109e-04 - mean_squared_error: 1.3109e-04 - val_loss: 4.0475e-04 - val_mean_squared_error: 4.0475e-04\n",
      "Epoch 50/50\n",
      "375/375 [==============================] - 1s 2ms/step - loss: 1.3341e-04 - mean_squared_error: 1.3341e-04 - val_loss: 6.9234e-04 - val_mean_squared_error: 6.9234e-04\n"
     ]
    },
    {
     "data": {
      "text/plain": [
       "<tensorflow.python.keras.callbacks.History at 0x2c11a6eeb48>"
      ]
     },
     "execution_count": 212,
     "metadata": {},
     "output_type": "execute_result"
    }
   ],
   "source": [
    "model.fit((full_data_6[['x','y']].values/np.array([1280,720]))[:3000],full_data_6[['R','angles']].values[:3000],#/maxes,\n",
    "          validation_data =(full_data_6[['x','y']].values[3000:]/np.array([1280,720]),full_data_6[['R','angles']].values[3000:]),#/maxes), \n",
    "         batch_size = 8,\n",
    "         epochs = 50,\n",
    "         verbose = 1)"
   ]
  },
  {
   "cell_type": "code",
   "execution_count": 213,
   "metadata": {},
   "outputs": [],
   "source": [
    "pred = model.predict(full_data_6[['x','y']].values[:]/np.array([1280,720]))"
   ]
  },
  {
   "cell_type": "code",
   "execution_count": 218,
   "metadata": {},
   "outputs": [],
   "source": [
    "data = full_data_6"
   ]
  },
  {
   "cell_type": "code",
   "execution_count": 223,
   "metadata": {},
   "outputs": [
    {
     "data": {
      "text/plain": [
       "[<matplotlib.lines.Line2D at 0x2c11aaa0b08>]"
      ]
     },
     "execution_count": 223,
     "metadata": {},
     "output_type": "execute_result"
    },
    {
     "data": {
      "image/png": "[encoded data removed]",
      "text/plain": [
       "<Figure size 432x288 with 1 Axes>"
      ]
     },
     "metadata": {
      "needs_background": "light"
     },
     "output_type": "display_data"
    }
   ],
   "source": [
    "plt.plot(data.x/1280,data.y/720)"
   ]
  },
  {
   "cell_type": "code",
   "execution_count": 211,
   "metadata": {},
   "outputs": [
    {
     "data": {
      "text/plain": [
       "<matplotlib.collections.PathCollection at 0x2c11a6e3108>"
      ]
     },
     "execution_count": 211,
     "metadata": {},
     "output_type": "execute_result"
    },
    {
     "data": {
      "image/png": "[encoded data removed]",
      "text/plain": [
       "<Figure size 432x288 with 1 Axes>"
      ]
     },
     "metadata": {
      "needs_background": "light"
     },
     "output_type": "display_data"
    }
   ],
   "source": [
    "plt.scatter(pred[:,0]*maxes[0],pred[:,1]*maxes[1])"
   ]
  },
  {
   "cell_type": "code",
   "execution_count": 184,
   "metadata": {},
   "outputs": [
    {
     "data": {
      "text/plain": [
       "[<matplotlib.lines.Line2D at 0x2c115d95e08>]"
      ]
     },
     "execution_count": 184,
     "metadata": {},
     "output_type": "execute_result"
    },
    {
     "data": {
      "image/png": "[encoded data removed]",
      "text/plain": [
       "<Figure size 432x288 with 1 Axes>"
      ]
     },
     "metadata": {
      "needs_background": "light"
     },
     "output_type": "display_data"
    }
   ],
   "source": [
    "plt.plot(full_data_6.lon_lin.values[:],full_data_6.lat_lin.values[:])"
   ]
  },
  {
   "cell_type": "code",
   "execution_count": null,
   "metadata": {},
   "outputs": [],
   "source": []
  }
 ],
 "metadata": {
  "kernelspec": {
   "display_name": "tf",
   "language": "python",
   "name": "tf"
  },
  "language_info": {
   "codemirror_mode": {
    "name": "ipython",
    "version": 3
   },
   "file_extension": ".py",
   "mimetype": "text/x-python",
   "name": "python",
   "nbconvert_exporter": "python",
   "pygments_lexer": "ipython3",
   "version": "3.7.7"
  }
 },
 "nbformat": 4,
 "nbformat_minor": 4
}
